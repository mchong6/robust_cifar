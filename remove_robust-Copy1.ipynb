{
 "cells": [
  {
   "cell_type": "code",
   "execution_count": 28,
   "metadata": {},
   "outputs": [
    {
     "name": "stdout",
     "output_type": "stream",
     "text": [
      "The autoreload extension is already loaded. To reload it, use:\n",
      "  %reload_ext autoreload\n"
     ]
    }
   ],
   "source": [
    "%load_ext autoreload\n",
    "%autoreload 2\n",
    "import os\n",
    "from PIL import Image\n",
    "import numpy as np\n",
    "import torch\n",
    "import torchvision.transforms as transforms\n",
    "from torch.utils.data import Dataset\n",
    "import torch.nn.functional as F \n",
    "from torch import autograd\n",
    "from torch import optim\n",
    "from torch.autograd import Variable\n",
    "os.environ[\"CUDA_VISIBLE_DEVICES\"]=\"0\"\n",
    "\n",
    "import torchvision\n",
    "from torchvision.utils import save_image\n",
    "import torch.backends.cudnn as cudnn\n",
    "import torch.nn as nn\n",
    "import json\n",
    "import util\n",
    "from tqdm import tqdm_notebook\n",
    "from models import *\n",
    "\n",
    "cudnn.benchmark = True\n",
    "from advertorch.attacks import LinfPGDAttack, L2PGDAttack\n",
    "from advertorch.utils import NormalizeByChannelMeanStd\n",
    "import random\n",
    "import kornia"
   ]
  },
  {
   "cell_type": "code",
   "execution_count": 29,
   "metadata": {},
   "outputs": [
    {
     "name": "stdout",
     "output_type": "stream",
     "text": [
      "Files already downloaded and verified\n"
     ]
    }
   ],
   "source": [
    "MEAN = torch.Tensor([0.4914, 0.4822, 0.4465])\n",
    "STD = torch.Tensor([0.2023, 0.1994, 0.2010])\n",
    "\n",
    "\n",
    "def unnormalize(im):\n",
    "    mean = MEAN.cuda() if im.is_cuda else MEAN\n",
    "    std = STD.cuda() if im.is_cuda else STD\n",
    "\n",
    "    if im.dim() == 4:\n",
    "        im = im.transpose(1, 3)\n",
    "        im = im * std + mean\n",
    "        im = im.transpose(1, 3)\n",
    "    else:\n",
    "        im = im.transpose(0, 2)\n",
    "        im = im * std + mean\n",
    "        im = im.transpose(0, 2)\n",
    "\n",
    "    return im\n",
    "\n",
    "\n",
    "def normalize(im):\n",
    "    mean = MEAN.cuda() if im.is_cuda else MEAN\n",
    "    std = STD.cuda() if im.is_cuda else STD\n",
    "\n",
    "    if im.dim() == 4:\n",
    "        im = im.transpose(1, 3)\n",
    "        im = (im - mean) / std\n",
    "        im = im.transpose(1, 3)\n",
    "    else:\n",
    "        im = im.transpose(0, 2)\n",
    "        im = (im - mean) / std\n",
    "        im = im.transpose(0, 2)\n",
    "\n",
    "    return im\n",
    "\n",
    "def BIM(image, classifier, target, max_eps, itr_eps=1 / 255, itr=20):\n",
    "    eps = torch.zeros_like(image).cuda()\n",
    "    for _ in range(itr):\n",
    "        eps.requires_grad = True\n",
    "        with torch.enable_grad():\n",
    "            output = classifier(normalize((image+eps).clamp(0,1)))\n",
    "            loss = F.cross_entropy(\n",
    "                output, target, size_average=False\n",
    "            )\n",
    "        grad = torch.autograd.grad(loss, [eps])[0]\n",
    "        eps = eps + itr_eps * torch.sign(grad.detach())\n",
    "        eps = eps.clamp(-max_eps, max_eps).detach()\n",
    "    return eps\n",
    "\n",
    "transform = transforms.Compose([\n",
    "    transforms.ToTensor(),\n",
    "])\n",
    "\n",
    "\n",
    "criterion = nn.CrossEntropyLoss()\n",
    "classes = ('plane', 'car', 'bird', 'cat', 'deer', 'dog', 'frog', 'horse', 'ship', 'truck')\n",
    "# criterion = nn.MSELoss()\n",
    "\n",
    "norm = NormalizeByChannelMeanStd(\n",
    "    mean=MEAN, std=STD)\n",
    "\n",
    "classifier = torch.nn.DataParallel(ResNet18()).cuda().eval()\n",
    "classifier_feat = torch.nn.DataParallel(ResNet18_feat()).cuda().eval()\n",
    "\n",
    "checkpoint = torch.load('./checkpoint/ckpt.t7')\n",
    "# checkpoint = torch.load('./checkpoint/ckpt_ccumulate_10_scale1_warm1.t7')\n",
    "classifier.load_state_dict(checkpoint['net'])\n",
    "classifier_feat.load_state_dict(checkpoint['net'])\n",
    "\n",
    "trainset = torchvision.datasets.CIFAR10(root='./data', train=True, download=True, transform=transform)\n",
    "# trainset = torchvision.datasets.ImageFolder(root='./robust_data', transform=transform)\n",
    "trainloader = torch.utils.data.DataLoader(trainset, batch_size=128, shuffle=True, num_workers=2)\n",
    "\n",
    "out_dir = './robust_data_multiadv'\n",
    "util.create_dirs(out_dir)\n",
    "for i in range(10):\n",
    "    util.create_dirs(os.path.join(out_dir, str(i)))\n",
    "\n",
    "max_eps = 8/255\n",
    "\n",
    "\n",
    "classifier = nn.Sequential(norm, classifier).cuda()\n",
    "\n",
    "adversary = LinfPGDAttack(\n",
    "    classifier, eps=8. / 255, eps_iter=2 / 255, nb_iter=10,\n",
    "    rand_init=True, targeted=False)\n",
    "\n",
    "strong_adversary = LinfPGDAttack(\n",
    "    classifier, eps=8. / 255, eps_iter=1 / 255, nb_iter=50,\n",
    "    rand_init=True, targeted=False)\n",
    "\n",
    "# eps = 1.\n",
    "# adversary = L2PGDAttack(\n",
    "#     classifier, eps=eps, eps_iter=eps/5, nb_iter=10,\n",
    "#     rand_init=True, targeted=False)\n",
    "\n",
    "# adversary = L2PGDAttack(\n",
    "#     adv_model, eps=eps, eps_iter=eps/10, nb_iter=30,\n",
    "#     rand_init=True, targeted=False)"
   ]
  },
  {
   "cell_type": "code",
   "execution_count": 37,
   "metadata": {},
   "outputs": [],
   "source": [
    "def new_robustify(im, target, iterations, classifier):\n",
    "    with torch.no_grad():\n",
    "        target_feat, _ = classifier_feat(normalize(im))\n",
    "        \n",
    "    index = torch.randperm(im.size(0)).cuda()\n",
    "    im = im[index] \n",
    "\n",
    "    for j in tqdm_notebook(range(iterations)):\n",
    "        im.requires_grad_()\n",
    "        total_loss = 0\n",
    "\n",
    "        eps = (adversary.perturb(im, target) - im).detach()\n",
    "        output = classifier(normalize((im + eps).clamp(0, 1)))\n",
    "        xe_loss =criterion(output, target) \n",
    "        \n",
    "        output_feat, _ = classifier_feat(normalize((im).clamp(0, 1)))\n",
    "        feat_loss = 1e-1 * F.mse_loss(output_feat[-1], target_feat[-1])\n",
    "        \n",
    "        print(j, xe_loss.item(), feat_loss.item())\n",
    "        total_loss = total_loss + xe_loss + feat_loss\n",
    "        if xe_loss < 1e-4:\n",
    "            return im.clamp(0,1)\n",
    "        \n",
    "        total_loss.backward()\n",
    "        im = (im - 0.5/255*im.grad.data.sign()).clamp(0,1).detach()\n",
    "#         im = (im - 0.1*im.grad.data/im.grad.data.norm(2, dim=(1,2,3))[:,None,None,None]).clamp(0,1).detach()\n",
    "\n",
    "    out = (im).clamp(0, 1)\n",
    "    return out\n",
    "\n",
    "def madry_robustify(im, iterations=1000):\n",
    "    index = torch.randperm(im.size(0)).cuda()\n",
    "    shuffled_im = im[index] \n",
    "    with torch.no_grad():\n",
    "        target_feat, _ = classifier_feat(normalize(im))\n",
    "    \n",
    "    for i in range(iterations):\n",
    "        shuffled_im.requires_grad_()\n",
    "        output_feat, _ = classifier_feat(normalize(shuffled_im))\n",
    "        loss = F.mse_loss(output_feat[-1], target_feat[-1])\n",
    "        loss.backward()\n",
    "        shuffled_im = (shuffled_im - 0.1*shuffled_im.grad.data/shuffled_im.grad.data.norm(2, dim=(1,2,3))[:,None,None,None]).clamp(0,1).detach()\n",
    "        \n",
    "    return shuffled_im\n",
    "\n",
    "def jitter(X, max_jitter=16):\n",
    "    \"\"\"\n",
    "    Helper function to randomly jitter an image.\n",
    "    \n",
    "    Inputs\n",
    "    - X: PyTorch Tensor of shape (N, C, H, W)\n",
    "    - ox, oy: Integers giving number of pixels to jitter along W and H axes\n",
    "    \n",
    "    Returns: A new PyTorch Tensor of shape (N, C, H, W)\n",
    "    \"\"\"\n",
    "    ox, oy = random.randint(0, max_jitter), random.randint(0, max_jitter)\n",
    "    if ox != 0:\n",
    "        left = X[:, :, :, :-ox]\n",
    "        right = X[:, :, :, -ox:]\n",
    "        X = torch.cat([right, left], dim=3)\n",
    "    if oy != 0:\n",
    "        top = X[:, :, :-oy]\n",
    "        bottom = X[:, :, -oy:]\n",
    "        X = torch.cat([bottom, top], dim=2)\n",
    "    return X\n",
    "\n",
    "def transformation(x):\n",
    "#     x = F.pad(x, (4,4,4,4), 'constant', 0.5)\n",
    "    x = jitter(x, 4)\n",
    "#     x = F.interpolate(x, scale_factor=np.random.uniform(0.9, 1.1), mode=\"bilinear\")\n",
    "    rotations = list(range(-10, 11)) + 5 * [0]\n",
    "    angle = torch.ones(1) * random.choice(rotations)\n",
    "    center = torch.ones(1, 2)\n",
    "    center[..., 0] = x.shape[3] / 2  # x\n",
    "    center[..., 1] = x.shape[2] / 2  # y\n",
    "    M = kornia.get_rotation_matrix2d(center, angle, scale=torch.FloatTensor([np.random.uniform(0.8, 1.2)])).cuda()\n",
    "    M = M.expand(x.size(0), -1, -1)\n",
    "    _, _, h, w = x.shape\n",
    "    x = kornia.warp_affine(x, M, dsize=(h, w))    \n",
    "    x = jitter(x, 2)\n",
    "    return x\n",
    "\n",
    "def test_robustify(im, target, iterations, count,  classifier):\n",
    "    with tqdm_notebook(total=iterations, leave=False) as t:\n",
    "        for j in range(iterations):\n",
    "            im.requires_grad_()\n",
    "            total_loss = 0\n",
    "            \n",
    "\n",
    "#             eps = (adversary.perturb(im, target) - im).detach()\n",
    "#             output = classifier((im + eps).clamp(0, 1))\n",
    "#             loss = F.cross_entropy(output, target, reduction='none')\n",
    "#             total_loss += loss.mean()\n",
    "            \n",
    "            t_im = transformation(im)\n",
    "            eps = (adversary.perturb(t_im, target) - t_im).detach()\n",
    "            t_output = classifier(t_im+eps)\n",
    "            t_loss = criterion(t_output, target)\n",
    "            total_loss += t_loss\n",
    "            \n",
    "            equal_idx = ((t_output.argmax(1) == target) * (t_loss < 1e-5))\n",
    "\n",
    "            total_loss.backward()\n",
    "            im = (im - 0.2*im.grad.data/im.grad.data.norm(2, dim=(1,2,3))[:,None,None,None]).clamp(0,1).detach()\n",
    "    \n",
    "            for idx in equal_idx.nonzero():\n",
    "                save_image(im[idx].clamp(0,1), os.path.join(out_dir, str(target[idx].item()), '%d.png'%(count[int(target[idx])])))\n",
    "                count[int(target[idx])] += 1\n",
    "            im = im[1-equal_idx]\n",
    "            target = target[1-equal_idx]\n",
    "            if im.size(0) == 0:\n",
    "                return count\n",
    "\n",
    "    \n",
    "            t.set_postfix(l1='{:03.7f}'.format(t_loss.item()))\n",
    "            t.update()\n",
    "            \n",
    "        for idx in range(im.size(0)):\n",
    "            save_image(im[idx].clamp(0,1), os.path.join(out_dir, str(target[idx].item()), '%d.png'%(count[int(target[idx])])))\n",
    "            count[int(target[idx])] += 1\n",
    "    return count"
   ]
  },
  {
   "cell_type": "code",
   "execution_count": 4,
   "metadata": {},
   "outputs": [
    {
     "name": "stdout",
     "output_type": "stream",
     "text": [
      "tensor([[0],\n",
      "        [3]])\n",
      "tensor([0]) torch.Size([1])\n",
      "tensor([3]) torch.Size([1])\n"
     ]
    },
    {
     "data": {
      "text/plain": [
       "tensor([2, 3])"
      ]
     },
     "execution_count": 4,
     "metadata": {},
     "output_type": "execute_result"
    }
   ],
   "source": [
    "z = torch.tensor([1,2,3,4])\n",
    "y = torch.tensor([1,2,5,4])\n",
    "x = torch.tensor([.1,.2,.1,.1])\n",
    "\n",
    "eq = ((z==y) * (x < .15))\n",
    "print(eq.nonzero())\n",
    "for i in eq.nonzero():\n",
    "    print(i, i.shape)\n",
    "z[1-eq]"
   ]
  },
  {
   "cell_type": "code",
   "execution_count": null,
   "metadata": {},
   "outputs": [
    {
     "data": {
      "application/vnd.jupyter.widget-view+json": {
       "model_id": "d544c2d000194eb2b5043c2d279f867f",
       "version_major": 2,
       "version_minor": 0
      },
      "text/plain": [
       "HBox(children=(IntProgress(value=0, max=391), HTML(value='')))"
      ]
     },
     "metadata": {},
     "output_type": "display_data"
    },
    {
     "data": {
      "application/vnd.jupyter.widget-view+json": {
       "model_id": "ec89982000054040a6290dd95efc9c38",
       "version_major": 2,
       "version_minor": 0
      },
      "text/plain": [
       "HBox(children=(IntProgress(value=0, max=500), HTML(value='')))"
      ]
     },
     "metadata": {},
     "output_type": "display_data"
    },
    {
     "data": {
      "application/vnd.jupyter.widget-view+json": {
       "model_id": "",
       "version_major": 2,
       "version_minor": 0
      },
      "text/plain": [
       "HBox(children=(IntProgress(value=0, max=500), HTML(value='')))"
      ]
     },
     "metadata": {},
     "output_type": "display_data"
    },
    {
     "data": {
      "application/vnd.jupyter.widget-view+json": {
       "model_id": "",
       "version_major": 2,
       "version_minor": 0
      },
      "text/plain": [
       "HBox(children=(IntProgress(value=0, max=500), HTML(value='')))"
      ]
     },
     "metadata": {},
     "output_type": "display_data"
    },
    {
     "data": {
      "application/vnd.jupyter.widget-view+json": {
       "model_id": "",
       "version_major": 2,
       "version_minor": 0
      },
      "text/plain": [
       "HBox(children=(IntProgress(value=0, max=500), HTML(value='')))"
      ]
     },
     "metadata": {},
     "output_type": "display_data"
    },
    {
     "data": {
      "application/vnd.jupyter.widget-view+json": {
       "model_id": "",
       "version_major": 2,
       "version_minor": 0
      },
      "text/plain": [
       "HBox(children=(IntProgress(value=0, max=500), HTML(value='')))"
      ]
     },
     "metadata": {},
     "output_type": "display_data"
    },
    {
     "data": {
      "application/vnd.jupyter.widget-view+json": {
       "model_id": "",
       "version_major": 2,
       "version_minor": 0
      },
      "text/plain": [
       "HBox(children=(IntProgress(value=0, max=500), HTML(value='')))"
      ]
     },
     "metadata": {},
     "output_type": "display_data"
    },
    {
     "data": {
      "application/vnd.jupyter.widget-view+json": {
       "model_id": "",
       "version_major": 2,
       "version_minor": 0
      },
      "text/plain": [
       "HBox(children=(IntProgress(value=0, max=500), HTML(value='')))"
      ]
     },
     "metadata": {},
     "output_type": "display_data"
    },
    {
     "data": {
      "application/vnd.jupyter.widget-view+json": {
       "model_id": "295b59e802d84e2495b44a4da0ed02d4",
       "version_major": 2,
       "version_minor": 0
      },
      "text/plain": [
       "HBox(children=(IntProgress(value=0, max=500), HTML(value='')))"
      ]
     },
     "metadata": {},
     "output_type": "display_data"
    },
    {
     "data": {
      "application/vnd.jupyter.widget-view+json": {
       "model_id": "",
       "version_major": 2,
       "version_minor": 0
      },
      "text/plain": [
       "HBox(children=(IntProgress(value=0, max=500), HTML(value='')))"
      ]
     },
     "metadata": {},
     "output_type": "display_data"
    },
    {
     "data": {
      "application/vnd.jupyter.widget-view+json": {
       "model_id": "",
       "version_major": 2,
       "version_minor": 0
      },
      "text/plain": [
       "HBox(children=(IntProgress(value=0, max=500), HTML(value='')))"
      ]
     },
     "metadata": {},
     "output_type": "display_data"
    },
    {
     "data": {
      "application/vnd.jupyter.widget-view+json": {
       "model_id": "",
       "version_major": 2,
       "version_minor": 0
      },
      "text/plain": [
       "HBox(children=(IntProgress(value=0, max=500), HTML(value='')))"
      ]
     },
     "metadata": {},
     "output_type": "display_data"
    },
    {
     "data": {
      "application/vnd.jupyter.widget-view+json": {
       "model_id": "",
       "version_major": 2,
       "version_minor": 0
      },
      "text/plain": [
       "HBox(children=(IntProgress(value=0, max=500), HTML(value='')))"
      ]
     },
     "metadata": {},
     "output_type": "display_data"
    },
    {
     "data": {
      "application/vnd.jupyter.widget-view+json": {
       "model_id": "",
       "version_major": 2,
       "version_minor": 0
      },
      "text/plain": [
       "HBox(children=(IntProgress(value=0, max=500), HTML(value='')))"
      ]
     },
     "metadata": {},
     "output_type": "display_data"
    },
    {
     "data": {
      "application/vnd.jupyter.widget-view+json": {
       "model_id": "",
       "version_major": 2,
       "version_minor": 0
      },
      "text/plain": [
       "HBox(children=(IntProgress(value=0, max=500), HTML(value='')))"
      ]
     },
     "metadata": {},
     "output_type": "display_data"
    },
    {
     "data": {
      "application/vnd.jupyter.widget-view+json": {
       "model_id": "",
       "version_major": 2,
       "version_minor": 0
      },
      "text/plain": [
       "HBox(children=(IntProgress(value=0, max=500), HTML(value='')))"
      ]
     },
     "metadata": {},
     "output_type": "display_data"
    },
    {
     "data": {
      "application/vnd.jupyter.widget-view+json": {
       "model_id": "",
       "version_major": 2,
       "version_minor": 0
      },
      "text/plain": [
       "HBox(children=(IntProgress(value=0, max=500), HTML(value='')))"
      ]
     },
     "metadata": {},
     "output_type": "display_data"
    },
    {
     "data": {
      "application/vnd.jupyter.widget-view+json": {
       "model_id": "",
       "version_major": 2,
       "version_minor": 0
      },
      "text/plain": [
       "HBox(children=(IntProgress(value=0, max=500), HTML(value='')))"
      ]
     },
     "metadata": {},
     "output_type": "display_data"
    },
    {
     "data": {
      "application/vnd.jupyter.widget-view+json": {
       "model_id": "",
       "version_major": 2,
       "version_minor": 0
      },
      "text/plain": [
       "HBox(children=(IntProgress(value=0, max=500), HTML(value='')))"
      ]
     },
     "metadata": {},
     "output_type": "display_data"
    },
    {
     "data": {
      "application/vnd.jupyter.widget-view+json": {
       "model_id": "",
       "version_major": 2,
       "version_minor": 0
      },
      "text/plain": [
       "HBox(children=(IntProgress(value=0, max=500), HTML(value='')))"
      ]
     },
     "metadata": {},
     "output_type": "display_data"
    },
    {
     "data": {
      "application/vnd.jupyter.widget-view+json": {
       "model_id": "",
       "version_major": 2,
       "version_minor": 0
      },
      "text/plain": [
       "HBox(children=(IntProgress(value=0, max=500), HTML(value='')))"
      ]
     },
     "metadata": {},
     "output_type": "display_data"
    },
    {
     "data": {
      "application/vnd.jupyter.widget-view+json": {
       "model_id": "",
       "version_major": 2,
       "version_minor": 0
      },
      "text/plain": [
       "HBox(children=(IntProgress(value=0, max=500), HTML(value='')))"
      ]
     },
     "metadata": {},
     "output_type": "display_data"
    },
    {
     "data": {
      "application/vnd.jupyter.widget-view+json": {
       "model_id": "",
       "version_major": 2,
       "version_minor": 0
      },
      "text/plain": [
       "HBox(children=(IntProgress(value=0, max=500), HTML(value='')))"
      ]
     },
     "metadata": {},
     "output_type": "display_data"
    },
    {
     "data": {
      "application/vnd.jupyter.widget-view+json": {
       "model_id": "",
       "version_major": 2,
       "version_minor": 0
      },
      "text/plain": [
       "HBox(children=(IntProgress(value=0, max=500), HTML(value='')))"
      ]
     },
     "metadata": {},
     "output_type": "display_data"
    },
    {
     "data": {
      "application/vnd.jupyter.widget-view+json": {
       "model_id": "",
       "version_major": 2,
       "version_minor": 0
      },
      "text/plain": [
       "HBox(children=(IntProgress(value=0, max=500), HTML(value='')))"
      ]
     },
     "metadata": {},
     "output_type": "display_data"
    },
    {
     "data": {
      "application/vnd.jupyter.widget-view+json": {
       "model_id": "",
       "version_major": 2,
       "version_minor": 0
      },
      "text/plain": [
       "HBox(children=(IntProgress(value=0, max=500), HTML(value='')))"
      ]
     },
     "metadata": {},
     "output_type": "display_data"
    },
    {
     "data": {
      "application/vnd.jupyter.widget-view+json": {
       "model_id": "",
       "version_major": 2,
       "version_minor": 0
      },
      "text/plain": [
       "HBox(children=(IntProgress(value=0, max=500), HTML(value='')))"
      ]
     },
     "metadata": {},
     "output_type": "display_data"
    },
    {
     "data": {
      "application/vnd.jupyter.widget-view+json": {
       "model_id": "",
       "version_major": 2,
       "version_minor": 0
      },
      "text/plain": [
       "HBox(children=(IntProgress(value=0, max=500), HTML(value='')))"
      ]
     },
     "metadata": {},
     "output_type": "display_data"
    },
    {
     "data": {
      "application/vnd.jupyter.widget-view+json": {
       "model_id": "",
       "version_major": 2,
       "version_minor": 0
      },
      "text/plain": [
       "HBox(children=(IntProgress(value=0, max=500), HTML(value='')))"
      ]
     },
     "metadata": {},
     "output_type": "display_data"
    },
    {
     "data": {
      "application/vnd.jupyter.widget-view+json": {
       "model_id": "",
       "version_major": 2,
       "version_minor": 0
      },
      "text/plain": [
       "HBox(children=(IntProgress(value=0, max=500), HTML(value='')))"
      ]
     },
     "metadata": {},
     "output_type": "display_data"
    },
    {
     "data": {
      "application/vnd.jupyter.widget-view+json": {
       "model_id": "",
       "version_major": 2,
       "version_minor": 0
      },
      "text/plain": [
       "HBox(children=(IntProgress(value=0, max=500), HTML(value='')))"
      ]
     },
     "metadata": {},
     "output_type": "display_data"
    },
    {
     "data": {
      "application/vnd.jupyter.widget-view+json": {
       "model_id": "febdd16dd85840c39a320cab964f997f",
       "version_major": 2,
       "version_minor": 0
      },
      "text/plain": [
       "HBox(children=(IntProgress(value=0, max=500), HTML(value='')))"
      ]
     },
     "metadata": {},
     "output_type": "display_data"
    },
    {
     "data": {
      "application/vnd.jupyter.widget-view+json": {
       "model_id": "",
       "version_major": 2,
       "version_minor": 0
      },
      "text/plain": [
       "HBox(children=(IntProgress(value=0, max=500), HTML(value='')))"
      ]
     },
     "metadata": {},
     "output_type": "display_data"
    },
    {
     "data": {
      "application/vnd.jupyter.widget-view+json": {
       "model_id": "",
       "version_major": 2,
       "version_minor": 0
      },
      "text/plain": [
       "HBox(children=(IntProgress(value=0, max=500), HTML(value='')))"
      ]
     },
     "metadata": {},
     "output_type": "display_data"
    },
    {
     "data": {
      "application/vnd.jupyter.widget-view+json": {
       "model_id": "",
       "version_major": 2,
       "version_minor": 0
      },
      "text/plain": [
       "HBox(children=(IntProgress(value=0, max=500), HTML(value='')))"
      ]
     },
     "metadata": {},
     "output_type": "display_data"
    },
    {
     "data": {
      "application/vnd.jupyter.widget-view+json": {
       "model_id": "",
       "version_major": 2,
       "version_minor": 0
      },
      "text/plain": [
       "HBox(children=(IntProgress(value=0, max=500), HTML(value='')))"
      ]
     },
     "metadata": {},
     "output_type": "display_data"
    },
    {
     "data": {
      "application/vnd.jupyter.widget-view+json": {
       "model_id": "",
       "version_major": 2,
       "version_minor": 0
      },
      "text/plain": [
       "HBox(children=(IntProgress(value=0, max=500), HTML(value='')))"
      ]
     },
     "metadata": {},
     "output_type": "display_data"
    },
    {
     "data": {
      "application/vnd.jupyter.widget-view+json": {
       "model_id": "",
       "version_major": 2,
       "version_minor": 0
      },
      "text/plain": [
       "HBox(children=(IntProgress(value=0, max=500), HTML(value='')))"
      ]
     },
     "metadata": {},
     "output_type": "display_data"
    },
    {
     "data": {
      "application/vnd.jupyter.widget-view+json": {
       "model_id": "3ef171d6256a4d7ead91343988ab400f",
       "version_major": 2,
       "version_minor": 0
      },
      "text/plain": [
       "HBox(children=(IntProgress(value=0, max=500), HTML(value='')))"
      ]
     },
     "metadata": {},
     "output_type": "display_data"
    },
    {
     "data": {
      "application/vnd.jupyter.widget-view+json": {
       "model_id": "",
       "version_major": 2,
       "version_minor": 0
      },
      "text/plain": [
       "HBox(children=(IntProgress(value=0, max=500), HTML(value='')))"
      ]
     },
     "metadata": {},
     "output_type": "display_data"
    },
    {
     "data": {
      "application/vnd.jupyter.widget-view+json": {
       "model_id": "5a877bad60cb42f49ce00810d124189d",
       "version_major": 2,
       "version_minor": 0
      },
      "text/plain": [
       "HBox(children=(IntProgress(value=0, max=500), HTML(value='')))"
      ]
     },
     "metadata": {},
     "output_type": "display_data"
    }
   ],
   "source": [
    "iterations = 500\n",
    "count = [0] * 10\n",
    "for batch_idx, (inputs, targets) in enumerate(tqdm_notebook(trainloader)):\n",
    "    inputs = inputs.cuda()\n",
    "    targets = targets.cuda()\n",
    "\n",
    "    out = inputs\n",
    "    count = test_robustify(inputs, targets, iterations, count, classifier)\n",
    "\n",
    "#     for i in range(inputs.size(0)):\n",
    "#         save_image(out[i], os.path.join(out_dir, str(targets[i].item()), '%d.png'%(count[int(targets[i])])))\n",
    "#         count[int(targets[i])] += 1"
   ]
  },
  {
   "cell_type": "code",
   "execution_count": 24,
   "metadata": {},
   "outputs": [
    {
     "data": {
      "application/vnd.jupyter.widget-view+json": {
       "model_id": "f590f7620b0a400a9a80e30242d53cd6",
       "version_major": 2,
       "version_minor": 0
      },
      "text/plain": [
       "HBox(children=(IntProgress(value=0, max=782), HTML(value='')))"
      ]
     },
     "metadata": {},
     "output_type": "display_data"
    },
    {
     "name": "stdout",
     "output_type": "stream",
     "text": [
      "\n"
     ]
    },
    {
     "data": {
      "application/vnd.jupyter.widget-view+json": {
       "model_id": "",
       "version_major": 2,
       "version_minor": 0
      },
      "text/plain": [
       "HBox(children=(IntProgress(value=0, max=200), HTML(value='')))"
      ]
     },
     "metadata": {},
     "output_type": "display_data"
    },
    {
     "name": "stdout",
     "output_type": "stream",
     "text": [
      "\r"
     ]
    }
   ],
   "source": [
    "for batch_idx, (inputs, targets) in enumerate(tqdm_notebook(trainloader)):\n",
    "    break\n",
    "\n",
    "inputs = inputs.cuda()\n",
    "targets = targets.cuda()\n",
    "out = inputs.clone()\n",
    "# out_madry = inputs.clone()\n",
    "out = test_robustify(out, targets, 500, classifier)\n",
    "# out_madry = madry_robustify(out)"
   ]
  },
  {
   "cell_type": "code",
   "execution_count": 25,
   "metadata": {},
   "outputs": [],
   "source": [
    "adv_out = strong_adversary.perturb(out, targets)"
   ]
  },
  {
   "cell_type": "code",
   "execution_count": 27,
   "metadata": {},
   "outputs": [
    {
     "name": "stdout",
     "output_type": "stream",
     "text": [
      "plane\n",
      "plane\n",
      "plane\n"
     ]
    },
    {
     "data": {
      "image/png": "[encoded data removed]",
      "text/plain": [
       "<Figure size 432x288 with 1 Axes>"
      ]
     },
     "metadata": {
      "needs_background": "light"
     },
     "output_type": "display_data"
    },
    {
     "data": {
      "image/png": "[encoded data removed]",
      "text/plain": [
       "<Figure size 432x288 with 1 Axes>"
      ]
     },
     "metadata": {
      "needs_background": "light"
     },
     "output_type": "display_data"
    },
    {
     "data": {
      "image/png": "[encoded data removed]",
      "text/plain": [
       "<Figure size 432x288 with 1 Axes>"
      ]
     },
     "metadata": {
      "needs_background": "light"
     },
     "output_type": "display_data"
    }
   ],
   "source": [
    "idx = 0\n",
    "util.display_image(inputs[idx])\n",
    "print(classes[classifier(inputs).argmax(1)[idx]])\n",
    "util.display_image(out[idx])\n",
    "print(classes[classifier(out).argmax(1)[idx]])\n",
    "util.display_image(adv_out[idx])\n",
    "print(classes[classifier(adv_out).argmax(1)[idx]])"
   ]
  },
  {
   "cell_type": "code",
   "execution_count": 8,
   "metadata": {},
   "outputs": [
    {
     "data": {
      "image/png": "[encoded data removed]",
      "text/plain": [
       "<Figure size 432x288 with 1 Axes>"
      ]
     },
     "metadata": {
      "needs_background": "light"
     },
     "output_type": "display_data"
    }
   ],
   "source": [
    "util.display_image(transformation(inputs[idx, None]))\n"
   ]
  },
  {
   "cell_type": "code",
   "execution_count": null,
   "metadata": {},
   "outputs": [],
   "source": [
    "# save_image(out, 'robust.png')\n",
    "# adv = util.BIM(out.detach(), classifier, targets, 8/255, itr_eps=1 / 255, itr=20)\n",
    "strong_adversary = L2PGDAttack(\n",
    "    adv_model, eps=0.5, eps_iter=0.25/5, nb_iter=100,\n",
    "    rand_init=True, targeted=False)\n",
    "\n",
    "adv = strong_adversary.perturb(out_madry.detach(), targets)\n",
    "robust_label = classifier(out).argmax(1)\n",
    "adv_label = classifier(adv).argmax(1)\n",
    "\n",
    "print((targets==robust_label).sum().float()/ inputs.size(0))\n",
    "print((targets==adv_label).sum().float()/inputs.size(0))\n",
    "\n",
    "classifier_dense = torch.nn.DataParallel(DenseNet121()).cuda().eval()\n",
    "checkpoint = torch.load('./checkpoint/ckpt_dense.t7')\n",
    "classifier_dense.load_state_dict(checkpoint['net'])\n",
    "\n",
    "dense_label = classifier_dense(normalize(out)).argmax(1)\n",
    "\n",
    "print((targets==dense_label).sum().float()/ inputs.size(0))"
   ]
  },
  {
   "cell_type": "code",
   "execution_count": null,
   "metadata": {},
   "outputs": [],
   "source": [
    "idx = 19\n",
    "util.display_image(inputs[idx])\n",
    "util.display_image(out[idx])\n",
    "util.display_image(out_madry[idx])"
   ]
  },
  {
   "cell_type": "code",
   "execution_count": null,
   "metadata": {},
   "outputs": [],
   "source": [
    "def mixup_data(x, y, alpha=0.5):\n",
    "    '''Returns mixed inputs, pairs of targets, and lambda'''\n",
    "    batch_size = x.size()[0]\n",
    "    index = torch.randperm(batch_size).cuda()\n",
    "    \n",
    "    y_onehot = torch.FloatTensor(x.size(0), 10).cuda()\n",
    "    y_onehot.zero_()\n",
    "    y_onehot.scatter_(1, y.unsqueeze(1), 1)\n",
    "\n",
    "    mixed_x = (1-alpha) * x + (alpha) * x[index, :]\n",
    "    mixed_y = (1-alpha) * y_onehot + alpha * y_onehot[index]\n",
    "    return mixed_x, mixed_y\n",
    "\n",
    "mix, mix_y = mixup_data(inputs, targets)\n",
    "idx = 4\n",
    "util.display_image(mix[idx])\n",
    "util.display_image(inputs[idx])\n",
    "print(classes[targets[idx]])"
   ]
  },
  {
   "cell_type": "code",
   "execution_count": null,
   "metadata": {},
   "outputs": [],
   "source": [
    "MEAN = torch.Tensor([0.4914, 0.4822, 0.4465])\n",
    "STD = torch.Tensor([0.2023, 0.1994, 0.2010])\n",
    "norm = NormalizeByChannelMeanStd(mean=MEAN, std=STD)\n",
    "\n",
    "net = nn.Sequential(norm, ResNet18()).cuda()\n",
    "net = torch.nn.DataParallel(net)\n",
    "print(len(net.state_dict().items()), [k for k,v in net.state_dict().items()], '\\n')\n",
    "\n",
    "checkpoint = torch.load('./checkpoint/ckpt_madry+grad.t7')\n",
    "print(len(checkpoint['net'].items()), [k for k,v in checkpoint['net'].items()])\n",
    "\n",
    "# a = list(net.state_dict())\n",
    "# sorted(a)\n",
    "# b= list(checkpoint['net'])\n",
    "# sorted(b)\n",
    "# for i, key in enumerate(a):\n",
    "#     key2 = b[i]\n",
    "#     print(i, key, key2)\n",
    "#     checkpoint['net'][key] = checkpoint['net'].pop(key2)\n",
    "\n",
    "print([k for k,v in checkpoint['net'].items()])\n",
    "torch.save(checkpoint, './checkpoint/ckpt_madry+grad.t7')"
   ]
  },
  {
   "cell_type": "code",
   "execution_count": null,
   "metadata": {},
   "outputs": [],
   "source": [
    "c = 9\n",
    "x = Image.open('./dataset_folder/robust_data/%d/10.png'%c)\n",
    "x = transform(x).unsqueeze(0)\n",
    "util.display_image(x)\n",
    "print(classes[classifier(x).argmax(1)[0]])\n",
    "adv = adversary.perturb(x.cuda(), torch.LongTensor([c]).cuda())\n",
    "print(classes[classifier(adv).argmax(1)[0]])\n"
   ]
  }
 ],
 "metadata": {
  "kernelspec": {
   "display_name": "Python [conda env:torch] *",
   "language": "python",
   "name": "conda-env-torch-py"
  },
  "language_info": {
   "codemirror_mode": {
    "name": "ipython",
    "version": 3
   },
   "file_extension": ".py",
   "mimetype": "text/x-python",
   "name": "python",
   "nbconvert_exporter": "python",
   "pygments_lexer": "ipython3",
   "version": "3.7.3"
  }
 },
 "nbformat": 4,
 "nbformat_minor": 2
}
