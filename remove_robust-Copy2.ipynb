{
 "cells": [
  {
   "cell_type": "code",
   "execution_count": 1,
   "metadata": {},
   "outputs": [],
   "source": [
    "%load_ext autoreload\n",
    "%autoreload 2\n",
    "import os\n",
    "from PIL import Image\n",
    "import numpy as np\n",
    "import torch\n",
    "import torchvision.transforms as transforms\n",
    "from torch.utils.data import Dataset\n",
    "import torch.nn.functional as F \n",
    "from torch import autograd\n",
    "from torch import optim\n",
    "from torch.autograd import Variable\n",
    "os.environ[\"CUDA_VISIBLE_DEVICES\"]=\"3\"\n",
    "\n",
    "import torchvision\n",
    "from torchvision.utils import save_image\n",
    "import torch.backends.cudnn as cudnn\n",
    "import torch.nn as nn\n",
    "import json\n",
    "import util\n",
    "from tqdm import tqdm_notebook\n",
    "from models import *\n",
    "\n",
    "cudnn.benchmark = True\n",
    "from advertorch.attacks import LinfPGDAttack, L2PGDAttack\n",
    "from advertorch.utils import NormalizeByChannelMeanStd"
   ]
  },
  {
   "cell_type": "code",
   "execution_count": 2,
   "metadata": {},
   "outputs": [
    {
     "name": "stdout",
     "output_type": "stream",
     "text": [
      "Files already downloaded and verified\n"
     ]
    }
   ],
   "source": [
    "MEAN = torch.Tensor([0.4914, 0.4822, 0.4465])\n",
    "STD = torch.Tensor([0.2023, 0.1994, 0.2010])\n",
    "\n",
    "\n",
    "def unnormalize(im):\n",
    "    mean = MEAN.cuda() if im.is_cuda else MEAN\n",
    "    std = STD.cuda() if im.is_cuda else STD\n",
    "\n",
    "    if im.dim() == 4:\n",
    "        im = im.transpose(1, 3)\n",
    "        im = im * std + mean\n",
    "        im = im.transpose(1, 3)\n",
    "    else:\n",
    "        im = im.transpose(0, 2)\n",
    "        im = im * std + mean\n",
    "        im = im.transpose(0, 2)\n",
    "\n",
    "    return im\n",
    "\n",
    "\n",
    "def normalize(im):\n",
    "    mean = MEAN.cuda() if im.is_cuda else MEAN\n",
    "    std = STD.cuda() if im.is_cuda else STD\n",
    "\n",
    "    if im.dim() == 4:\n",
    "        im = im.transpose(1, 3)\n",
    "        im = (im - mean) / std\n",
    "        im = im.transpose(1, 3)\n",
    "    else:\n",
    "        im = im.transpose(0, 2)\n",
    "        im = (im - mean) / std\n",
    "        im = im.transpose(0, 2)\n",
    "\n",
    "    return im\n",
    "\n",
    "def BIM(image, classifier, target, max_eps, itr_eps=1 / 255, itr=20):\n",
    "    eps = torch.zeros_like(image).cuda()\n",
    "    for _ in range(itr):\n",
    "        eps.requires_grad = True\n",
    "        with torch.enable_grad():\n",
    "            output = classifier(normalize((image+eps).clamp(0,1)))\n",
    "            loss = F.cross_entropy(\n",
    "                output, target, size_average=False\n",
    "            )\n",
    "        grad = torch.autograd.grad(loss, [eps])[0]\n",
    "        eps = eps + itr_eps * torch.sign(grad.detach())\n",
    "        eps = eps.clamp(-max_eps, max_eps).detach()\n",
    "    return eps\n",
    "\n",
    "transform = transforms.Compose([\n",
    "    transforms.ToTensor(),\n",
    "])\n",
    "\n",
    "\n",
    "criterion = nn.CrossEntropyLoss()\n",
    "classes = ('plane', 'car', 'bird', 'cat', 'deer', 'dog', 'frog', 'horse', 'ship', 'truck')\n",
    "# criterion = nn.MSELoss()\n",
    "\n",
    "\n",
    "classifier = torch.nn.DataParallel(ResNet18()).cuda().eval()\n",
    "classifier_feat = torch.nn.DataParallel(ResNet18_feat()).cuda().eval()\n",
    "\n",
    "# checkpoint = torch.load('./checkpoint/ckpt.t7')\n",
    "checkpoint = torch.load('./checkpoint/ckpt_accumulate_10_scale1_warm1.t7')\n",
    "classifier.load_state_dict(checkpoint['net'])\n",
    "classifier_feat.load_state_dict(checkpoint['net'])\n",
    "\n",
    "trainset = torchvision.datasets.CIFAR10(root='./data', train=True, download=True, transform=transform)\n",
    "# trainset = torchvision.datasets.ImageFolder(root='./robust_data', transform=transform)\n",
    "trainloader = torch.utils.data.DataLoader(trainset, batch_size=128, shuffle=True, num_workers=2)\n",
    "\n",
    "out_dir = './robust_data_madry'\n",
    "util.create_dirs(out_dir)\n",
    "for i in range(10):\n",
    "    util.create_dirs(os.path.join(out_dir, str(i)))\n",
    "\n",
    "max_eps = 8/255\n",
    "\n",
    "norm = NormalizeByChannelMeanStd(\n",
    "    mean=MEAN, std=STD)\n",
    "\n",
    "adv_model = nn.Sequential(norm, classifier).cuda()\n",
    "\n",
    "# adversary = LinfPGDAttack(\n",
    "#     adv_model, eps=8. / 255, eps_iter=1 / 255, nb_iter=10,\n",
    "#     rand_init=True, targeted=False)\n",
    "adversary = L2PGDAttack(\n",
    "    adv_model, eps=0.5, eps_iter=0.5/5, nb_iter=10,\n",
    "    rand_init=True, targeted=False)"
   ]
  },
  {
   "cell_type": "code",
   "execution_count": 5,
   "metadata": {},
   "outputs": [],
   "source": [
    "def new_robustify(im, target, iterations, classifier):\n",
    "    with torch.no_grad():\n",
    "        target_feat, _ = classifier_feat(normalize(im))\n",
    "\n",
    "    for j in tqdm_notebook(range(iterations)):\n",
    "        im.requires_grad_()\n",
    "        total_loss = 0\n",
    "\n",
    "        eps = (adversary.perturb(im, target) - im).detach()\n",
    "        output = classifier(normalize((im + eps).clamp(0, 1)))\n",
    "        xe_loss =criterion(output, target) \n",
    "        \n",
    "        output_feat, _ = classifier_feat(normalize((im).clamp(0, 1)))\n",
    "#         feat_loss = 1e-2 * F.mse_loss(output_feat[-1], target_feat[-1])\n",
    "        \n",
    "#         print(j, xe_loss.item())#, feat_loss.item())\n",
    "        total_loss = total_loss + xe_loss# + feat_loss\n",
    "        if xe_loss < 1e-4:\n",
    "            return im.clamp(0,1)\n",
    "        \n",
    "#         resized_loss = 0\n",
    "#         for i in range(5):\n",
    "#             factor = np.random.uniform(1.2, 0.8)\n",
    "#             resized_im = F.interpolate(\n",
    "#                 ((im)).clamp(0, 1), scale_factor=factor, mode=\"nearest\"\n",
    "#             )\n",
    "#             output = classifier(normalize((resized_im)))\n",
    "#             resized_loss += criterion(output, target)# \n",
    "#         total_loss += resized_loss\n",
    "# #         print(j, loss.item(), resized_loss.item())\n",
    "#         if total_loss.item() < 1e-4:\n",
    "#             return im.clamp(0,1)\n",
    "\n",
    "        total_loss.backward()\n",
    "        im = (im - 0.5/255*im.grad.data.sign()).clamp(0,1).detach()\n",
    "#         im = (im - 0.1*im.grad.data/im.grad.data.norm(2, dim=(1,2,3))[:,None,None,None]).clamp(0,1).detach()\n",
    "\n",
    "    out = (im).clamp(0, 1)\n",
    "    return out\n",
    "\n",
    "def madry_robustify(im, iterations=1000):\n",
    "    index = torch.randperm(im.size(0)).cuda()\n",
    "    shuffled_im = im[index] \n",
    "    with torch.no_grad():\n",
    "        target_feat, _ = classifier_feat(normalize(im))\n",
    "    \n",
    "    for i in tqdm_notebook(range(iterations)):\n",
    "        shuffled_im.requires_grad_()\n",
    "        output_feat, _ = classifier_feat(normalize(shuffled_im))\n",
    "        loss = F.mse_loss(output_feat[-1], target_feat[-1])\n",
    "        loss.backward()\n",
    "        shuffled_im = (shuffled_im - 0.1*shuffled_im.grad.data/shuffled_im.grad.data.norm(2, dim=(1,2,3))[:,None,None,None]).clamp(0,1).detach()\n",
    "        \n",
    "    return shuffled_im"
   ]
  },
  {
   "cell_type": "code",
   "execution_count": null,
   "metadata": {},
   "outputs": [
    {
     "data": {
      "application/vnd.jupyter.widget-view+json": {
       "model_id": "30c3d52dec884a9e800e02db1f04bc97",
       "version_major": 2,
       "version_minor": 0
      },
      "text/plain": [
       "HBox(children=(IntProgress(value=0, max=391), HTML(value='')))"
      ]
     },
     "metadata": {},
     "output_type": "display_data"
    },
    {
     "data": {
      "application/vnd.jupyter.widget-view+json": {
       "model_id": "57255ddfb3c34cf09f2f2c759832a943",
       "version_major": 2,
       "version_minor": 0
      },
      "text/plain": [
       "HBox(children=(IntProgress(value=0, max=1000), HTML(value='')))"
      ]
     },
     "metadata": {},
     "output_type": "display_data"
    },
    {
     "data": {
      "application/vnd.jupyter.widget-view+json": {
       "model_id": "14a5ca6804d24692b7cdf48691b26c03",
       "version_major": 2,
       "version_minor": 0
      },
      "text/plain": [
       "HBox(children=(IntProgress(value=0, max=1000), HTML(value='')))"
      ]
     },
     "metadata": {},
     "output_type": "display_data"
    },
    {
     "data": {
      "application/vnd.jupyter.widget-view+json": {
       "model_id": "0a4a67faa3874fd4969e9203ce2612e8",
       "version_major": 2,
       "version_minor": 0
      },
      "text/plain": [
       "HBox(children=(IntProgress(value=0, max=1000), HTML(value='')))"
      ]
     },
     "metadata": {},
     "output_type": "display_data"
    },
    {
     "data": {
      "application/vnd.jupyter.widget-view+json": {
       "model_id": "6989d0cc67654d2c97ccf90ed8a8ef65",
       "version_major": 2,
       "version_minor": 0
      },
      "text/plain": [
       "HBox(children=(IntProgress(value=0, max=1000), HTML(value='')))"
      ]
     },
     "metadata": {},
     "output_type": "display_data"
    },
    {
     "data": {
      "application/vnd.jupyter.widget-view+json": {
       "model_id": "173d059dda894f20aafbc3b943a35a1a",
       "version_major": 2,
       "version_minor": 0
      },
      "text/plain": [
       "HBox(children=(IntProgress(value=0, max=1000), HTML(value='')))"
      ]
     },
     "metadata": {},
     "output_type": "display_data"
    },
    {
     "data": {
      "application/vnd.jupyter.widget-view+json": {
       "model_id": "f7c3f7360d384a09a56b0fbd31db4cce",
       "version_major": 2,
       "version_minor": 0
      },
      "text/plain": [
       "HBox(children=(IntProgress(value=0, max=1000), HTML(value='')))"
      ]
     },
     "metadata": {},
     "output_type": "display_data"
    },
    {
     "data": {
      "application/vnd.jupyter.widget-view+json": {
       "model_id": "d1055c409e794f0c8ad3943f3280547a",
       "version_major": 2,
       "version_minor": 0
      },
      "text/plain": [
       "HBox(children=(IntProgress(value=0, max=1000), HTML(value='')))"
      ]
     },
     "metadata": {},
     "output_type": "display_data"
    },
    {
     "data": {
      "application/vnd.jupyter.widget-view+json": {
       "model_id": "7c29e574f8884cf5b62f219d2f91d9d7",
       "version_major": 2,
       "version_minor": 0
      },
      "text/plain": [
       "HBox(children=(IntProgress(value=0, max=1000), HTML(value='')))"
      ]
     },
     "metadata": {},
     "output_type": "display_data"
    },
    {
     "data": {
      "application/vnd.jupyter.widget-view+json": {
       "model_id": "c3028787abe14bfab6ff25df815589e7",
       "version_major": 2,
       "version_minor": 0
      },
      "text/plain": [
       "HBox(children=(IntProgress(value=0, max=1000), HTML(value='')))"
      ]
     },
     "metadata": {},
     "output_type": "display_data"
    },
    {
     "data": {
      "application/vnd.jupyter.widget-view+json": {
       "model_id": "6cc3d56096b6450a8b513140e92e0dc9",
       "version_major": 2,
       "version_minor": 0
      },
      "text/plain": [
       "HBox(children=(IntProgress(value=0, max=1000), HTML(value='')))"
      ]
     },
     "metadata": {},
     "output_type": "display_data"
    },
    {
     "data": {
      "application/vnd.jupyter.widget-view+json": {
       "model_id": "fb5d2b0dad2740e6bdf4bee567e539ae",
       "version_major": 2,
       "version_minor": 0
      },
      "text/plain": [
       "HBox(children=(IntProgress(value=0, max=1000), HTML(value='')))"
      ]
     },
     "metadata": {},
     "output_type": "display_data"
    },
    {
     "data": {
      "application/vnd.jupyter.widget-view+json": {
       "model_id": "c7953d6c3ba44227b1539c19b70b83a9",
       "version_major": 2,
       "version_minor": 0
      },
      "text/plain": [
       "HBox(children=(IntProgress(value=0, max=1000), HTML(value='')))"
      ]
     },
     "metadata": {},
     "output_type": "display_data"
    },
    {
     "data": {
      "application/vnd.jupyter.widget-view+json": {
       "model_id": "efc27587060f4b9992a18f7eb7beeb8e",
       "version_major": 2,
       "version_minor": 0
      },
      "text/plain": [
       "HBox(children=(IntProgress(value=0, max=1000), HTML(value='')))"
      ]
     },
     "metadata": {},
     "output_type": "display_data"
    },
    {
     "data": {
      "application/vnd.jupyter.widget-view+json": {
       "model_id": "805413d9c3d74c9488af0aade9e9404b",
       "version_major": 2,
       "version_minor": 0
      },
      "text/plain": [
       "HBox(children=(IntProgress(value=0, max=1000), HTML(value='')))"
      ]
     },
     "metadata": {},
     "output_type": "display_data"
    },
    {
     "data": {
      "application/vnd.jupyter.widget-view+json": {
       "model_id": "ff6fa9f7d7264474a9fe310f63cdef34",
       "version_major": 2,
       "version_minor": 0
      },
      "text/plain": [
       "HBox(children=(IntProgress(value=0, max=1000), HTML(value='')))"
      ]
     },
     "metadata": {},
     "output_type": "display_data"
    },
    {
     "data": {
      "application/vnd.jupyter.widget-view+json": {
       "model_id": "25113113d403444a86ed6eb0ace71655",
       "version_major": 2,
       "version_minor": 0
      },
      "text/plain": [
       "HBox(children=(IntProgress(value=0, max=1000), HTML(value='')))"
      ]
     },
     "metadata": {},
     "output_type": "display_data"
    },
    {
     "data": {
      "application/vnd.jupyter.widget-view+json": {
       "model_id": "57b011c42e1d4de3a7d5a12e89d362ce",
       "version_major": 2,
       "version_minor": 0
      },
      "text/plain": [
       "HBox(children=(IntProgress(value=0, max=1000), HTML(value='')))"
      ]
     },
     "metadata": {},
     "output_type": "display_data"
    },
    {
     "data": {
      "application/vnd.jupyter.widget-view+json": {
       "model_id": "9aaa4d5f2640401697ec06754ed92951",
       "version_major": 2,
       "version_minor": 0
      },
      "text/plain": [
       "HBox(children=(IntProgress(value=0, max=1000), HTML(value='')))"
      ]
     },
     "metadata": {},
     "output_type": "display_data"
    },
    {
     "data": {
      "application/vnd.jupyter.widget-view+json": {
       "model_id": "6ad30f0c2555482a93deba3b6fd6efc4",
       "version_major": 2,
       "version_minor": 0
      },
      "text/plain": [
       "HBox(children=(IntProgress(value=0, max=1000), HTML(value='')))"
      ]
     },
     "metadata": {},
     "output_type": "display_data"
    },
    {
     "data": {
      "application/vnd.jupyter.widget-view+json": {
       "model_id": "34a69b1616c7489da7b5113df09a1acc",
       "version_major": 2,
       "version_minor": 0
      },
      "text/plain": [
       "HBox(children=(IntProgress(value=0, max=1000), HTML(value='')))"
      ]
     },
     "metadata": {},
     "output_type": "display_data"
    },
    {
     "data": {
      "application/vnd.jupyter.widget-view+json": {
       "model_id": "783e5543112848c795ba64bda2baf59f",
       "version_major": 2,
       "version_minor": 0
      },
      "text/plain": [
       "HBox(children=(IntProgress(value=0, max=1000), HTML(value='')))"
      ]
     },
     "metadata": {},
     "output_type": "display_data"
    },
    {
     "data": {
      "application/vnd.jupyter.widget-view+json": {
       "model_id": "8922b8d2b217462ebe2c3ffe0b8b1034",
       "version_major": 2,
       "version_minor": 0
      },
      "text/plain": [
       "HBox(children=(IntProgress(value=0, max=1000), HTML(value='')))"
      ]
     },
     "metadata": {},
     "output_type": "display_data"
    },
    {
     "data": {
      "application/vnd.jupyter.widget-view+json": {
       "model_id": "9503edb7514c413a84ce585fbad7e00b",
       "version_major": 2,
       "version_minor": 0
      },
      "text/plain": [
       "HBox(children=(IntProgress(value=0, max=1000), HTML(value='')))"
      ]
     },
     "metadata": {},
     "output_type": "display_data"
    },
    {
     "data": {
      "application/vnd.jupyter.widget-view+json": {
       "model_id": "9be1912fb05e4ac585e2dc198690ce9f",
       "version_major": 2,
       "version_minor": 0
      },
      "text/plain": [
       "HBox(children=(IntProgress(value=0, max=1000), HTML(value='')))"
      ]
     },
     "metadata": {},
     "output_type": "display_data"
    },
    {
     "data": {
      "application/vnd.jupyter.widget-view+json": {
       "model_id": "04eb8e0777e7482d976ad5e8840e5205",
       "version_major": 2,
       "version_minor": 0
      },
      "text/plain": [
       "HBox(children=(IntProgress(value=0, max=1000), HTML(value='')))"
      ]
     },
     "metadata": {},
     "output_type": "display_data"
    },
    {
     "data": {
      "application/vnd.jupyter.widget-view+json": {
       "model_id": "e5aecac37ac54341a404210979a570b3",
       "version_major": 2,
       "version_minor": 0
      },
      "text/plain": [
       "HBox(children=(IntProgress(value=0, max=1000), HTML(value='')))"
      ]
     },
     "metadata": {},
     "output_type": "display_data"
    },
    {
     "data": {
      "application/vnd.jupyter.widget-view+json": {
       "model_id": "bf97e64d2cb6416da74c3b5b36fa6357",
       "version_major": 2,
       "version_minor": 0
      },
      "text/plain": [
       "HBox(children=(IntProgress(value=0, max=1000), HTML(value='')))"
      ]
     },
     "metadata": {},
     "output_type": "display_data"
    },
    {
     "data": {
      "application/vnd.jupyter.widget-view+json": {
       "model_id": "e48d08efb2ec43f6b9f35c7b5fbd164b",
       "version_major": 2,
       "version_minor": 0
      },
      "text/plain": [
       "HBox(children=(IntProgress(value=0, max=1000), HTML(value='')))"
      ]
     },
     "metadata": {},
     "output_type": "display_data"
    },
    {
     "data": {
      "application/vnd.jupyter.widget-view+json": {
       "model_id": "da53f95490d04ac8983ea5a2c425827b",
       "version_major": 2,
       "version_minor": 0
      },
      "text/plain": [
       "HBox(children=(IntProgress(value=0, max=1000), HTML(value='')))"
      ]
     },
     "metadata": {},
     "output_type": "display_data"
    },
    {
     "data": {
      "application/vnd.jupyter.widget-view+json": {
       "model_id": "c780f7b3ab6347bc8a3f12721cb50efc",
       "version_major": 2,
       "version_minor": 0
      },
      "text/plain": [
       "HBox(children=(IntProgress(value=0, max=1000), HTML(value='')))"
      ]
     },
     "metadata": {},
     "output_type": "display_data"
    },
    {
     "data": {
      "application/vnd.jupyter.widget-view+json": {
       "model_id": "9e83dd1254394ea3a0e9231cfc1b7fb2",
       "version_major": 2,
       "version_minor": 0
      },
      "text/plain": [
       "HBox(children=(IntProgress(value=0, max=1000), HTML(value='')))"
      ]
     },
     "metadata": {},
     "output_type": "display_data"
    },
    {
     "data": {
      "application/vnd.jupyter.widget-view+json": {
       "model_id": "22a6e77214c943e9adc27ecb4fb7aca6",
       "version_major": 2,
       "version_minor": 0
      },
      "text/plain": [
       "HBox(children=(IntProgress(value=0, max=1000), HTML(value='')))"
      ]
     },
     "metadata": {},
     "output_type": "display_data"
    },
    {
     "data": {
      "application/vnd.jupyter.widget-view+json": {
       "model_id": "56699f231a384e8babb553c7e0530d46",
       "version_major": 2,
       "version_minor": 0
      },
      "text/plain": [
       "HBox(children=(IntProgress(value=0, max=1000), HTML(value='')))"
      ]
     },
     "metadata": {},
     "output_type": "display_data"
    },
    {
     "data": {
      "application/vnd.jupyter.widget-view+json": {
       "model_id": "c8640a7a9a684832b8cf4d701225aba1",
       "version_major": 2,
       "version_minor": 0
      },
      "text/plain": [
       "HBox(children=(IntProgress(value=0, max=1000), HTML(value='')))"
      ]
     },
     "metadata": {},
     "output_type": "display_data"
    },
    {
     "data": {
      "application/vnd.jupyter.widget-view+json": {
       "model_id": "f90d5c9425b8417982219f90b9200c57",
       "version_major": 2,
       "version_minor": 0
      },
      "text/plain": [
       "HBox(children=(IntProgress(value=0, max=1000), HTML(value='')))"
      ]
     },
     "metadata": {},
     "output_type": "display_data"
    },
    {
     "data": {
      "application/vnd.jupyter.widget-view+json": {
       "model_id": "7b73a40da4fc41a9aec514bb33595415",
       "version_major": 2,
       "version_minor": 0
      },
      "text/plain": [
       "HBox(children=(IntProgress(value=0, max=1000), HTML(value='')))"
      ]
     },
     "metadata": {},
     "output_type": "display_data"
    },
    {
     "data": {
      "application/vnd.jupyter.widget-view+json": {
       "model_id": "c59f8f6495a748fcb8713b554d85b3e7",
       "version_major": 2,
       "version_minor": 0
      },
      "text/plain": [
       "HBox(children=(IntProgress(value=0, max=1000), HTML(value='')))"
      ]
     },
     "metadata": {},
     "output_type": "display_data"
    },
    {
     "data": {
      "application/vnd.jupyter.widget-view+json": {
       "model_id": "706285d46ac246f4b13e6a1ecfb399a4",
       "version_major": 2,
       "version_minor": 0
      },
      "text/plain": [
       "HBox(children=(IntProgress(value=0, max=1000), HTML(value='')))"
      ]
     },
     "metadata": {},
     "output_type": "display_data"
    }
   ],
   "source": [
    "iterations = 100\n",
    "count = [0] * 10\n",
    "for batch_idx, (inputs, targets) in enumerate(tqdm_notebook(trainloader)):\n",
    "    inputs = inputs.cuda()\n",
    "    targets = targets.cuda()\n",
    "\n",
    "    out = inputs\n",
    "#     out = new_robustify(inputs, targets, iterations, classifier)\n",
    "    out = madry_robustify(inputs)\n",
    "\n",
    "    for i in range(inputs.size(0)):\n",
    "        save_image(out[i], os.path.join(out_dir, str(targets[i].item()), '%d.png'%(count[int(targets[i])])))\n",
    "        count[int(targets[i])] += 1"
   ]
  },
  {
   "cell_type": "code",
   "execution_count": null,
   "metadata": {},
   "outputs": [],
   "source": [
    "for batch_idx, (inputs, targets) in enumerate(tqdm_notebook(trainloader)):\n",
    "    continue\n",
    "\n",
    "inputs = inputs.cuda()\n",
    "targets = targets.cuda()\n",
    "out = inputs.clone()\n",
    "out_madry = inputs.clone()\n",
    "out = new_robustify(out, targets, 100, classifier)\n",
    "out_madry = madry_robustify(out)"
   ]
  },
  {
   "cell_type": "code",
   "execution_count": 286,
   "metadata": {},
   "outputs": [
    {
     "name": "stdout",
     "output_type": "stream",
     "text": [
      "tensor(1., device='cuda:0')\n",
      "tensor(1., device='cuda:0')\n",
      "tensor(0.9875, device='cuda:0')\n"
     ]
    }
   ],
   "source": [
    "# save_image(out, 'robust.png')\n",
    "# adv = util.BIM(out.detach(), classifier, targets, 8/255, itr_eps=1 / 255, itr=20)\n",
    "strong_adversary = L2PGDAttack(\n",
    "    adv_model, eps=0.5, eps_iter=0.25/5, nb_iter=100,\n",
    "    rand_init=True, targeted=False)\n",
    "\n",
    "adv = strong_adversary.perturb(out.detach(), targets)\n",
    "robust_label = classifier(normalize(out)).argmax(1)\n",
    "adv_label = classifier(normalize(adv)).argmax(1)\n",
    "\n",
    "print((targets==robust_label).sum().float()/ inputs.size(0))\n",
    "print((targets==adv_label).sum().float()/inputs.size(0))\n",
    "\n",
    "classifier_dense = torch.nn.DataParallel(DenseNet121()).cuda().eval()\n",
    "checkpoint = torch.load('./checkpoint/ckpt_dense.t7')\n",
    "classifier_dense.load_state_dict(checkpoint['net'])\n",
    "\n",
    "dense_label = classifier_dense(normalize(out)).argmax(1)\n",
    "\n",
    "print((targets==dense_label).sum().float()/ inputs.size(0))"
   ]
  },
  {
   "cell_type": "code",
   "execution_count": 293,
   "metadata": {},
   "outputs": [
    {
     "data": {
      "image/png": "[encoded data removed]",
      "text/plain": [
       "<Figure size 432x288 with 1 Axes>"
      ]
     },
     "metadata": {
      "needs_background": "light"
     },
     "output_type": "display_data"
    },
    {
     "data": {
      "image/png": "[encoded data removed]",
      "text/plain": [
       "<Figure size 432x288 with 1 Axes>"
      ]
     },
     "metadata": {
      "needs_background": "light"
     },
     "output_type": "display_data"
    },
    {
     "data": {
      "image/png": "[encoded data removed]",
      "text/plain": [
       "<Figure size 432x288 with 1 Axes>"
      ]
     },
     "metadata": {
      "needs_background": "light"
     },
     "output_type": "display_data"
    }
   ],
   "source": [
    "idx = 12\n",
    "util.display_image(inputs[idx])\n",
    "util.display_image(out[idx])\n",
    "util.display_image(out_madry[idx])"
   ]
  },
  {
   "cell_type": "code",
   "execution_count": null,
   "metadata": {},
   "outputs": [],
   "source": []
  }
 ],
 "metadata": {
  "kernelspec": {
   "display_name": "py36",
   "language": "python",
   "name": "py36"
  },
  "language_info": {
   "codemirror_mode": {
    "name": "ipython",
    "version": 3
   },
   "file_extension": ".py",
   "mimetype": "text/x-python",
   "name": "python",
   "nbconvert_exporter": "python",
   "pygments_lexer": "ipython3",
   "version": "3.6.8"
  }
 },
 "nbformat": 4,
 "nbformat_minor": 2
}
