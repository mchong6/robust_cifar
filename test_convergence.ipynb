{
 "cells": [
  {
   "cell_type": "code",
   "execution_count": 1,
   "metadata": {},
   "outputs": [],
   "source": [
    "def warn(*args, **kwargs):\n",
    "    pass\n",
    "%load_ext autoreload\n",
    "%autoreload 2\n",
    "import warnings\n",
    "warnings.warn = warn\n",
    "\n",
    "import argparse\n",
    "import os\n",
    "from glob import glob\n",
    "os.environ[\"CUDA_VISIBLE_DEVICES\"]=\"0\"\n",
    "\n",
    "import numpy as np\n",
    "import torch\n",
    "import torch.nn as nn\n",
    "\n",
    "import torch.backends.cudnn as cudnn\n",
    "import torch.optim as optim\n",
    "import torch.nn.functional as F\n",
    "from torchvision.utils import save_image\n",
    "import torchvision\n",
    "import torch.utils.data as Data\n",
    "import torchvision.transforms as transforms\n",
    "\n",
    "from models import *\n",
    "from tqdm import tqdm_notebook\n",
    "\n",
    "import matplotlib.pyplot as plt\n",
    "import util\n",
    "cudnn.benchmark = True\n",
    "\n",
    "# from tensorboard import notebook\n",
    "from advertorch.attacks import LinfPGDAttack\n",
    "from advertorch.attacks import L2PGDAttack\n",
    "from advertorch.utils import NormalizeByChannelMeanStd"
   ]
  },
  {
   "cell_type": "code",
   "execution_count": 29,
   "metadata": {},
   "outputs": [
    {
     "name": "stdout",
     "output_type": "stream",
     "text": [
      "Files already downloaded and verified\n"
     ]
    }
   ],
   "source": [
    "MEAN = torch.Tensor([0.4914, 0.4822, 0.4465])\n",
    "STD = torch.Tensor([0.2023, 0.1994, 0.2010])\n",
    "\n",
    "def BIM(image, classifier, target, eps, itr_eps=1 / 255, itr=10):\n",
    "    origin = image.clone()\n",
    "    for _ in range(itr):\n",
    "        image.requires_grad = True\n",
    "        out_image = image\n",
    "        with torch.enable_grad():\n",
    "            output = classifier(out_image)\n",
    "            loss = criterion(output, target)\n",
    "        grad = torch.autograd.grad(loss, [image])[0]\n",
    "        image = image.detach() + itr_eps * torch.sign(grad.detach())\n",
    "        image = torch.min(torch.max(image, origin - eps), origin + eps)\n",
    "        image = image.clamp(0, 1).detach()\n",
    "    return image.detach()\n",
    "\n",
    "def pgd_lbfgs(image, classifier, target, max_eps=8/255, itr_eps=1 / 255, itr=5, criterion=nn.CrossEntropyLoss()):\n",
    "    original = image.clone()\n",
    "    eps = torch.zeros_like(image)\n",
    "#     if np.random.randint(0, 1):\n",
    "#         eps.uniform_(-max_eps, max_eps).cuda()\n",
    "\n",
    "    for _ in range(itr):\n",
    "        lbfgs_optimizer = optim.LBFGS([eps.requires_grad_()], lr=1, max_iter=20, history_size=100)\n",
    "        def closure():\n",
    "            eps_ = F.tanh(eps) * max_eps\n",
    "            output = classifier(normalize((image+eps_).clamp(0,1)))\n",
    "            loss = -criterion(output, target)# + 1e1*F.mse_loss(eps, torch.zeros_like(eps))\n",
    "#             print(loss.mean(), loss.min(), loss.max())\n",
    "#             loss=loss.mean()\n",
    "            lbfgs_optimizer.zero_grad()\n",
    "            loss.backward()\n",
    "            return loss\n",
    "\n",
    "        lbfgs_optimizer.step(closure)\n",
    "#         print(255*eps.max(), 255*eps.median(),255*eps.min())\n",
    "#         eps = eps.clamp(-max_eps, max_eps).detach()\n",
    "        eps = eps.detach()\n",
    "\n",
    "    return (image + F.tanh(eps)*max_eps).clamp(0,1)\n",
    "\n",
    "def robustify(im, classifier, target, iterations):\n",
    "    warm_iterations = iterations // 10\n",
    "    robust_eps = torch.zeros_like(im).cuda()\n",
    "    \n",
    "    adversary = L2PGDAttack(\n",
    "        classifier, eps=1., eps_iter=0.1, nb_iter=5,\n",
    "        rand_init=True, targeted=True)\n",
    "    \n",
    "#     optimizer = torch.optim.Adam([robust_eps.requires_grad_()], lr=1e-2)\n",
    "\n",
    "    for j in range(iterations):\n",
    "        robust_eps.requires_grad_()\n",
    "        robust_im = (im+robust_eps).clamp(0,1)\n",
    "        if j > warm_iterations:\n",
    "            eps = (adversary.perturb(robust_im, target) - robust_im).detach()\n",
    "        else:\n",
    "            eps = torch.zeros_like(im).cuda()\n",
    "        output = classifier((robust_im +eps).clamp(0, 1))\n",
    "        loss = criterion(output, target)\n",
    "        loss.backward()\n",
    "        robust_eps = (robust_eps + 1/255*robust_eps.grad.data.sign()).clamp(-8/255,8/255).detach()\n",
    "        \n",
    "    out = (im+robust_eps).clamp(0,1)\n",
    "    return out\n",
    "\n",
    "transform_test = transforms.Compose([\n",
    "    transforms.ToTensor(),\n",
    "#     transforms.Normalize((0.4914, 0.4822, 0.4465), (0.2023, 0.1994, 0.2010)),\n",
    "])\n",
    "testset = torchvision.datasets.CIFAR10(root='./data', train=False, download=True, transform=transform_test)\n",
    "testloader = torch.utils.data.DataLoader(testset, batch_size=100, shuffle=False, num_workers=2)\n",
    "\n",
    "norm = NormalizeByChannelMeanStd(\n",
    "    mean=MEAN, std=STD).cuda()\n",
    "\n",
    "classifier = torch.nn.DataParallel(nn.Sequential(norm, ResNet18())).cuda().eval()\n",
    "# classifier = nn.DataParallel(ResNet18())\n",
    "# checkpoint = torch.load('./checkpoint/madry_baseline.t7')\n",
    "# checkpoint = torch.load('./checkpoint/madry+grad_lambda1.t7')\n",
    "# checkpoint = torch.load('./checkpoint/madry+grad_lambda0.100000.t7')\n",
    "# checkpoint = torch.load('./checkpoint/madry+grad_lambda10.000000.t7')\n",
    "# checkpoint = torch.load('./checkpoint/ckpt_robust_data_robust_mod.t7')\n",
    "checkpoint = torch.load('./checkpoint/ckpt_adv1_lambda_100.000.t7')\n",
    "# checkpoint = torch.load('./checkpoint/ckpt_adv0_lambda_50.000.t7')\n",
    "# checkpoint = torch.load('./checkpoint/ckpt_accumulate_10_scale1_warm1.t7')\n",
    "classifier.load_state_dict(checkpoint['net'])\n",
    "# classifier = nn.Sequential(norm, classifier).cuda().eval()\n",
    "\n",
    "classifier_norm = nn.Sequential(norm, ResNet18()).cuda().eval()\n",
    "# checkpoint = torch.load('./checkpoint/ckpt_accumulate_10_scale1_warm1.t7')\n",
    "# checkpoint = torch.load('./checkpoint/ckpt_robust.t7')\n",
    "# checkpoint = torch.load('./checkpoint/ckpt_sub_accumulate_1_scale0_warm0.t7')\n",
    "# checkpoint = torch.load('./checkpoint/ckpt_madry.t7')\n",
    "# checkpoint2 = torch.load('./checkpoint/ckpt.t7')\n",
    "# classifier_norm.load_state_dict(checkpoint2['net'])\n",
    "criterion = nn.CrossEntropyLoss()"
   ]
  },
  {
   "cell_type": "code",
   "execution_count": null,
   "metadata": {
    "scrolled": true
   },
   "outputs": [
    {
     "data": {
      "application/vnd.jupyter.widget-view+json": {
       "model_id": "3f79c854a82045b78577360e788f5fcf",
       "version_major": 2,
       "version_minor": 0
      },
      "text/plain": [
       "HBox(children=(IntProgress(value=0), HTML(value='')))"
      ]
     },
     "metadata": {},
     "output_type": "display_data"
    }
   ],
   "source": [
    "from advertorch.attacks import L2PGDAttack\n",
    "\n",
    "max_eps = 0.25\n",
    "adversary = L2PGDAttack(\n",
    "    classifier, loss_fn=nn.CrossEntropyLoss(reduction=\"sum\"), eps=max_eps,\n",
    "    nb_iter=20, eps_iter=max_eps/5, rand_init=True, clip_min=0.0, clip_max=1.0,\n",
    "    targeted=False)\n",
    "\n",
    "# adv_untargeted = adversary.perturb(cln_data, true_label)\n",
    "\n",
    "correct = 0\n",
    "total = 0\n",
    "for itr, (real_im, target) in enumerate(tqdm_notebook(testloader)):\n",
    "    real_im, target = real_im.cuda(), target.cuda()\n",
    "    \n",
    "#     fake_im = robustify(real_im, adv_model, target, 50)\n",
    "#     fake_im = sparse_attack(real_im, target, adv_model, 8/255, 1/255, 200)\n",
    "    fake_im = BIM(real_im, classifier, target, 8/255, itr_eps=1/255, itr=20)\n",
    "#     fake_im = adversary.perturb(real_im, target)\n",
    "#     fake_im = pgd_lbfgs(real_im, classifier, target, max_eps=8/255, itr_eps=2 / 255, itr=5)\n",
    "    \n",
    "    with torch.no_grad():\n",
    "#         outputs = classifier(real_im)\n",
    "        outputs = classifier(fake_im)\n",
    "        _, predicted = outputs.max(1)\n",
    "        total += target.size(0)\n",
    "        correct += predicted.eq(target).sum().item()\n",
    "#         print(correct/total)\n",
    "\n",
    "print(correct/total)"
   ]
  },
  {
   "cell_type": "code",
   "execution_count": 602,
   "metadata": {},
   "outputs": [],
   "source": [
    "# out_class = classifier(normalize(out)).argmax(1)\n",
    "# print((out_class==target).sum()/out_class.size(0))\n",
    "\n",
    "out_class = classifier(real_im).argmax(1)\n",
    "adv = BIM(real_im, classifier, target, 50 / 255, itr=200).detach()\n",
    "adv_class = classifier(adv).argmax(1)\n",
    "# print((adv_class==target).sum().float()/adv_class.size(0))\n",
    "# adv_ = util.attack(adv, classifier, adv_class, 50 / 255, 200, attack_method=\"BIM\").detach()\n",
    "# adv2_class = classifier(normalize(adv_)).argmax(1)"
   ]
  },
  {
   "cell_type": "code",
   "execution_count": 603,
   "metadata": {},
   "outputs": [
    {
     "name": "stdout",
     "output_type": "stream",
     "text": [
      "cat\n",
      "cat\n",
      "ship\n"
     ]
    },
    {
     "data": {
      "image/png": "[encoded data removed]",
      "text/plain": [
       "<Figure size 432x288 with 1 Axes>"
      ]
     },
     "metadata": {
      "needs_background": "light"
     },
     "output_type": "display_data"
    },
    {
     "data": {
      "image/png": "[encoded data removed]",
      "text/plain": [
       "<Figure size 432x288 with 1 Axes>"
      ]
     },
     "metadata": {
      "needs_background": "light"
     },
     "output_type": "display_data"
    }
   ],
   "source": [
    "idx = 50\n",
    "util.display_image(real_im[idx])\n",
    "util.display_image(adv[idx])\n",
    "print(classes[target[idx]])\n",
    "print(classes[out_class[idx]])\n",
    "print(classes[adv_class[idx]])\n",
    "# print(classes[adv2_class[idx]])"
   ]
  },
  {
   "cell_type": "code",
   "execution_count": 447,
   "metadata": {},
   "outputs": [
    {
     "name": "stdout",
     "output_type": "stream",
     "text": [
      "torch.Size([1, 3, 224, 224]) torch.Size([1, 3, 224, 224])\n"
     ]
    },
    {
     "data": {
      "text/plain": [
       "torch.Size([1, 3, 224, 224])"
      ]
     },
     "execution_count": 447,
     "metadata": {},
     "output_type": "execute_result"
    }
   ],
   "source": [
    "class ConditionalBatchNorm2d(nn.Module):\n",
    "    def __init__(self, num_features, num_classes):\n",
    "        super().__init__()\n",
    "        self.num_features = num_features\n",
    "        self.bn = nn.BatchNorm2d(num_features, affine=False)\n",
    "        self.embed = nn.Embedding(num_classes, num_features * 2)\n",
    "        self.embed.weight.data[:, :num_features].normal_(1, 0.02)  # Initialise scale at N(1, 0.02)\n",
    "        self.embed.weight.data[:, num_features:].zero_()  # Initialise bias at 0\n",
    "\n",
    "    def forward(self, x, y):\n",
    "        out = self.bn(x)\n",
    "        gamma, beta = self.embed(y).chunk(2, 1)\n",
    "        out = gamma.view(-1, self.num_features, 1, 1) * out + beta.view(-1, self.num_features, 1, 1)\n",
    "        return out\n",
    "\n",
    "class ConditionalBatchNorm2d(nn.Module):\n",
    "    def __init__(self, num_features):\n",
    "        super().__init__()\n",
    "        self.num_features = num_features\n",
    "        num_filters = 128\n",
    "        kernel_size = 3\n",
    "        self.bn = nn.BatchNorm2d(num_features, affine=False)\n",
    "        \n",
    "        self.conv = nn.utils.spectral_norm(nn.Conv2d(num_features, num_filters, kernel_size=(kernel_size, kernel_size), padding=1))\n",
    "        self.conv_gamma = nn.utils.spectral_norm(nn.Conv2d(num_filters, num_features, kernel_size=(kernel_size, kernel_size), padding=1))\n",
    "        self.conv_beta = nn.utils.spectral_norm(nn.Conv2d(num_filters, num_features, kernel_size=(kernel_size, kernel_size), padding=1))\n",
    "\n",
    "    def forward(self, x):\n",
    "        out = self.bn(x)\n",
    "        \n",
    "        seg = F.relu(self.conv(x))\n",
    "        seg_gamma = self.conv_gamma(seg)\n",
    "        seg_beta = self.conv_beta(seg)\n",
    "        \n",
    "        print(seg_gamma.shape, seg_beta.shape)\n",
    "        out = torch.matmul(seg_gamma, x) + seg_beta\n",
    "        return out\n",
    "    \n",
    "\n",
    "    \n",
    "bn = ConditionalBatchNorm2d(3)\n",
    "z = torch.randn([1,3,224,224])\n",
    "bn(z).shape\n"
   ]
  }
 ],
 "metadata": {
  "kernelspec": {
   "display_name": "py36",
   "language": "python",
   "name": "py36"
  },
  "language_info": {
   "codemirror_mode": {
    "name": "ipython",
    "version": 3
   },
   "file_extension": ".py",
   "mimetype": "text/x-python",
   "name": "python",
   "nbconvert_exporter": "python",
   "pygments_lexer": "ipython3",
   "version": "3.6.8"
  }
 },
 "nbformat": 4,
 "nbformat_minor": 2
}
