{
 "cells": [
  {
   "cell_type": "code",
   "execution_count": 270,
   "metadata": {},
   "outputs": [
    {
     "name": "stdout",
     "output_type": "stream",
     "text": [
      "The autoreload extension is already loaded. To reload it, use:\n",
      "  %reload_ext autoreload\n"
     ]
    }
   ],
   "source": [
    "%load_ext autoreload\n",
    "%autoreload 2\n",
    "import os\n",
    "from PIL import Image\n",
    "import numpy as np\n",
    "import torch\n",
    "import torchvision.transforms as transforms\n",
    "from torch.utils.data import Dataset\n",
    "import torch.nn.functional as F \n",
    "from torch import autograd\n",
    "from torch import optim\n",
    "from torch.autograd import Variable\n",
    "os.environ[\"CUDA_VISIBLE_DEVICES\"]=\"4\"\n",
    "\n",
    "import torchvision\n",
    "from torchvision.utils import save_image\n",
    "import torch.backends.cudnn as cudnn\n",
    "import torch.nn as nn\n",
    "import json\n",
    "import util\n",
    "from tqdm import tqdm_notebook\n",
    "from models import *\n",
    "\n",
    "cudnn.benchmark = True\n",
    "from advertorch.attacks import LinfPGDAttack, L2PGDAttack\n",
    "from advertorch.utils import NormalizeByChannelMeanStd"
   ]
  },
  {
   "cell_type": "code",
   "execution_count": 294,
   "metadata": {},
   "outputs": [
    {
     "name": "stdout",
     "output_type": "stream",
     "text": [
      "Files already downloaded and verified\n"
     ]
    }
   ],
   "source": [
    "MEAN = torch.Tensor([0.4914, 0.4822, 0.4465])\n",
    "STD = torch.Tensor([0.2023, 0.1994, 0.2010])\n",
    "\n",
    "\n",
    "def unnormalize(im):\n",
    "    mean = MEAN.cuda() if im.is_cuda else MEAN\n",
    "    std = STD.cuda() if im.is_cuda else STD\n",
    "\n",
    "    if im.dim() == 4:\n",
    "        im = im.transpose(1, 3)\n",
    "        im = im * std + mean\n",
    "        im = im.transpose(1, 3)\n",
    "    else:\n",
    "        im = im.transpose(0, 2)\n",
    "        im = im * std + mean\n",
    "        im = im.transpose(0, 2)\n",
    "\n",
    "    return im\n",
    "\n",
    "\n",
    "def normalize(im):\n",
    "    mean = MEAN.cuda() if im.is_cuda else MEAN\n",
    "    std = STD.cuda() if im.is_cuda else STD\n",
    "\n",
    "    if im.dim() == 4:\n",
    "        im = im.transpose(1, 3)\n",
    "        im = (im - mean) / std\n",
    "        im = im.transpose(1, 3)\n",
    "    else:\n",
    "        im = im.transpose(0, 2)\n",
    "        im = (im - mean) / std\n",
    "        im = im.transpose(0, 2)\n",
    "\n",
    "    return im\n",
    "\n",
    "def BIM(image, classifier, target, max_eps, itr_eps=1 / 255, itr=20):\n",
    "    eps = torch.zeros_like(image).cuda()\n",
    "    for _ in range(itr):\n",
    "        eps.requires_grad = True\n",
    "        with torch.enable_grad():\n",
    "            output = classifier(normalize((image+eps).clamp(0,1)))\n",
    "            loss = F.cross_entropy(\n",
    "                output, target, size_average=False\n",
    "            )\n",
    "        grad = torch.autograd.grad(loss, [eps])[0]\n",
    "        eps = eps + itr_eps * torch.sign(grad.detach())\n",
    "        eps = eps.clamp(-max_eps, max_eps).detach()\n",
    "    return eps\n",
    "\n",
    "transform = transforms.Compose([\n",
    "    transforms.ToTensor(),\n",
    "])\n",
    "\n",
    "\n",
    "criterion = nn.CrossEntropyLoss()\n",
    "classes = ('plane', 'car', 'bird', 'cat', 'deer', 'dog', 'frog', 'horse', 'ship', 'truck')\n",
    "# criterion = nn.MSELoss()\n",
    "\n",
    "\n",
    "classifier = torch.nn.DataParallel(ResNet18()).cuda().eval()\n",
    "classifier_feat = torch.nn.DataParallel(ResNet18_feat()).cuda().eval()\n",
    "\n",
    "# checkpoint = torch.load('./checkpoint/ckpt.t7')\n",
    "checkpoint = torch.load('./checkpoint/ckpt_accumulate_10_scale1_warm1.t7')\n",
    "classifier.load_state_dict(checkpoint['net'])\n",
    "classifier_feat.load_state_dict(checkpoint['net'])\n",
    "\n",
    "trainset = torchvision.datasets.CIFAR10(root='./data', train=True, download=True, transform=transform)\n",
    "# trainset = torchvision.datasets.ImageFolder(root='./robust_data', transform=transform)\n",
    "trainloader = torch.utils.data.DataLoader(trainset, batch_size=128, shuffle=True, num_workers=2)\n",
    "\n",
    "out_dir = './robust_data_robust_model'\n",
    "util.create_dirs(out_dir)\n",
    "for i in range(10):\n",
    "    util.create_dirs(os.path.join(out_dir, str(i)))\n",
    "\n",
    "max_eps = 8/255\n",
    "\n",
    "norm = NormalizeByChannelMeanStd(\n",
    "    mean=MEAN, std=STD)\n",
    "\n",
    "adv_model = nn.Sequential(norm, classifier).cuda()\n",
    "\n",
    "# adversary = LinfPGDAttack(\n",
    "#     adv_model, eps=8. / 255, eps_iter=1 / 255, nb_iter=10,\n",
    "#     rand_init=True, targeted=False)\n",
    "adversary = L2PGDAttack(\n",
    "    adv_model, eps=0.5, eps_iter=0.5/5, nb_iter=10,\n",
    "    rand_init=True, targeted=False)"
   ]
  },
  {
   "cell_type": "code",
   "execution_count": 275,
   "metadata": {},
   "outputs": [],
   "source": [
    "def new_robustify(im, target, iterations, classifier):\n",
    "    with torch.no_grad():\n",
    "        target_feat, _ = classifier_feat(normalize(im))\n",
    "\n",
    "    for j in tqdm_notebook(range(iterations)):\n",
    "        im.requires_grad_()\n",
    "        total_loss = 0\n",
    "\n",
    "        eps = (adversary.perturb(im, target) - im).detach()\n",
    "        output = classifier(normalize((im + eps).clamp(0, 1)))\n",
    "        xe_loss =criterion(output, target) \n",
    "        \n",
    "        output_feat, _ = classifier_feat(normalize((im).clamp(0, 1)))\n",
    "#         feat_loss = 1e-2 * F.mse_loss(output_feat[-1], target_feat[-1])\n",
    "        \n",
    "#         print(j, xe_loss.item())#, feat_loss.item())\n",
    "        total_loss = total_loss + xe_loss# + feat_loss\n",
    "        if xe_loss < 1e-4:\n",
    "            return im.clamp(0,1)\n",
    "        \n",
    "#         resized_loss = 0\n",
    "#         for i in range(5):\n",
    "#             factor = np.random.uniform(1.2, 0.8)\n",
    "#             resized_im = F.interpolate(\n",
    "#                 ((im)).clamp(0, 1), scale_factor=factor, mode=\"nearest\"\n",
    "#             )\n",
    "#             output = classifier(normalize((resized_im)))\n",
    "#             resized_loss += criterion(output, target)# \n",
    "#         total_loss += resized_loss\n",
    "# #         print(j, loss.item(), resized_loss.item())\n",
    "#         if total_loss.item() < 1e-4:\n",
    "#             return im.clamp(0,1)\n",
    "\n",
    "        total_loss.backward()\n",
    "        im = (im - 0.5/255*im.grad.data.sign()).clamp(0,1).detach()\n",
    "#         im = (im - 0.1*im.grad.data/im.grad.data.norm(2, dim=(1,2,3))[:,None,None,None]).clamp(0,1).detach()\n",
    "\n",
    "    out = (im).clamp(0, 1)\n",
    "    return out\n",
    "\n",
    "def madry_robustify(im, iterations=1000):\n",
    "    index = torch.randperm(im.size(0)).cuda()\n",
    "    shuffled_im = im[index] \n",
    "    with torch.no_grad():\n",
    "        target_feat, _ = classifier_feat(normalize(im))\n",
    "    \n",
    "    for i in range(iterations):\n",
    "        shuffled_im.requires_grad_()\n",
    "        output_feat, _ = classifier_feat(normalize(shuffled_im))\n",
    "        loss = F.mse_loss(output_feat[-1], target_feat[-1])\n",
    "        loss.backward()\n",
    "        shuffled_im = (shuffled_im - 0.1*shuffled_im.grad.data/shuffled_im.grad.data.norm(2, dim=(1,2,3))[:,None,None,None]).clamp(0,1).detach()\n",
    "        \n",
    "    return shuffled_im"
   ]
  },
  {
   "cell_type": "code",
   "execution_count": null,
   "metadata": {},
   "outputs": [
    {
     "data": {
      "application/vnd.jupyter.widget-view+json": {
       "model_id": "a017c1c298fd44bf942587098155793b",
       "version_major": 2,
       "version_minor": 0
      },
      "text/plain": [
       "HBox(children=(IntProgress(value=0, max=391), HTML(value='')))"
      ]
     },
     "metadata": {},
     "output_type": "display_data"
    },
    {
     "data": {
      "application/vnd.jupyter.widget-view+json": {
       "model_id": "c429e104b5c9443b82e872e5bb89f1f1",
       "version_major": 2,
       "version_minor": 0
      },
      "text/plain": [
       "HBox(children=(IntProgress(value=0), HTML(value='')))"
      ]
     },
     "metadata": {},
     "output_type": "display_data"
    },
    {
     "data": {
      "application/vnd.jupyter.widget-view+json": {
       "model_id": "7937d5bab0ef4fcea82ec16c4e14f9aa",
       "version_major": 2,
       "version_minor": 0
      },
      "text/plain": [
       "HBox(children=(IntProgress(value=0), HTML(value='')))"
      ]
     },
     "metadata": {},
     "output_type": "display_data"
    },
    {
     "data": {
      "application/vnd.jupyter.widget-view+json": {
       "model_id": "79d1a7d1280b492fac032b66134a93bb",
       "version_major": 2,
       "version_minor": 0
      },
      "text/plain": [
       "HBox(children=(IntProgress(value=0), HTML(value='')))"
      ]
     },
     "metadata": {},
     "output_type": "display_data"
    },
    {
     "data": {
      "application/vnd.jupyter.widget-view+json": {
       "model_id": "892798e223b741238a46b8ece2f20791",
       "version_major": 2,
       "version_minor": 0
      },
      "text/plain": [
       "HBox(children=(IntProgress(value=0), HTML(value='')))"
      ]
     },
     "metadata": {},
     "output_type": "display_data"
    },
    {
     "data": {
      "application/vnd.jupyter.widget-view+json": {
       "model_id": "f51b6251d9ad412c810fda1caa3e0a59",
       "version_major": 2,
       "version_minor": 0
      },
      "text/plain": [
       "HBox(children=(IntProgress(value=0), HTML(value='')))"
      ]
     },
     "metadata": {},
     "output_type": "display_data"
    },
    {
     "data": {
      "application/vnd.jupyter.widget-view+json": {
       "model_id": "c9b2425ed1694b37a2b201ee914787c9",
       "version_major": 2,
       "version_minor": 0
      },
      "text/plain": [
       "HBox(children=(IntProgress(value=0), HTML(value='')))"
      ]
     },
     "metadata": {},
     "output_type": "display_data"
    },
    {
     "data": {
      "application/vnd.jupyter.widget-view+json": {
       "model_id": "67f4b15a50f74fe8a4fb7dd7f42b2820",
       "version_major": 2,
       "version_minor": 0
      },
      "text/plain": [
       "HBox(children=(IntProgress(value=0), HTML(value='')))"
      ]
     },
     "metadata": {},
     "output_type": "display_data"
    },
    {
     "data": {
      "application/vnd.jupyter.widget-view+json": {
       "model_id": "1e1c1de7fda645408d3a3ccb8a97a38d",
       "version_major": 2,
       "version_minor": 0
      },
      "text/plain": [
       "HBox(children=(IntProgress(value=0), HTML(value='')))"
      ]
     },
     "metadata": {},
     "output_type": "display_data"
    },
    {
     "data": {
      "application/vnd.jupyter.widget-view+json": {
       "model_id": "ddc6a31984934f36b2011f40343f9e4a",
       "version_major": 2,
       "version_minor": 0
      },
      "text/plain": [
       "HBox(children=(IntProgress(value=0), HTML(value='')))"
      ]
     },
     "metadata": {},
     "output_type": "display_data"
    },
    {
     "data": {
      "application/vnd.jupyter.widget-view+json": {
       "model_id": "e883eeee68c343dd8ad575e430ff6dd7",
       "version_major": 2,
       "version_minor": 0
      },
      "text/plain": [
       "HBox(children=(IntProgress(value=0), HTML(value='')))"
      ]
     },
     "metadata": {},
     "output_type": "display_data"
    },
    {
     "data": {
      "application/vnd.jupyter.widget-view+json": {
       "model_id": "8b3cfc5fb37f47f9b08ac397538eaa1d",
       "version_major": 2,
       "version_minor": 0
      },
      "text/plain": [
       "HBox(children=(IntProgress(value=0), HTML(value='')))"
      ]
     },
     "metadata": {},
     "output_type": "display_data"
    },
    {
     "data": {
      "application/vnd.jupyter.widget-view+json": {
       "model_id": "15ef781443ca43359b895d284c2e8180",
       "version_major": 2,
       "version_minor": 0
      },
      "text/plain": [
       "HBox(children=(IntProgress(value=0), HTML(value='')))"
      ]
     },
     "metadata": {},
     "output_type": "display_data"
    },
    {
     "data": {
      "application/vnd.jupyter.widget-view+json": {
       "model_id": "7726d98560e24a3cbd0c44f7e7d381f3",
       "version_major": 2,
       "version_minor": 0
      },
      "text/plain": [
       "HBox(children=(IntProgress(value=0), HTML(value='')))"
      ]
     },
     "metadata": {},
     "output_type": "display_data"
    },
    {
     "data": {
      "application/vnd.jupyter.widget-view+json": {
       "model_id": "9b3ced50dcd7405fae7b490493368700",
       "version_major": 2,
       "version_minor": 0
      },
      "text/plain": [
       "HBox(children=(IntProgress(value=0), HTML(value='')))"
      ]
     },
     "metadata": {},
     "output_type": "display_data"
    },
    {
     "data": {
      "application/vnd.jupyter.widget-view+json": {
       "model_id": "d611f2e21b0040239886f0ae4eda759b",
       "version_major": 2,
       "version_minor": 0
      },
      "text/plain": [
       "HBox(children=(IntProgress(value=0), HTML(value='')))"
      ]
     },
     "metadata": {},
     "output_type": "display_data"
    },
    {
     "data": {
      "application/vnd.jupyter.widget-view+json": {
       "model_id": "dee718d8a75f4725a0c605215e59e1e2",
       "version_major": 2,
       "version_minor": 0
      },
      "text/plain": [
       "HBox(children=(IntProgress(value=0), HTML(value='')))"
      ]
     },
     "metadata": {},
     "output_type": "display_data"
    },
    {
     "data": {
      "application/vnd.jupyter.widget-view+json": {
       "model_id": "17ca2eac58474618b4bcd2314b57e1c7",
       "version_major": 2,
       "version_minor": 0
      },
      "text/plain": [
       "HBox(children=(IntProgress(value=0), HTML(value='')))"
      ]
     },
     "metadata": {},
     "output_type": "display_data"
    },
    {
     "data": {
      "application/vnd.jupyter.widget-view+json": {
       "model_id": "2a56109cdf2b43ca98cffcb17addecbd",
       "version_major": 2,
       "version_minor": 0
      },
      "text/plain": [
       "HBox(children=(IntProgress(value=0), HTML(value='')))"
      ]
     },
     "metadata": {},
     "output_type": "display_data"
    },
    {
     "data": {
      "application/vnd.jupyter.widget-view+json": {
       "model_id": "deb3789270b64c1bac85985ee5bf67fe",
       "version_major": 2,
       "version_minor": 0
      },
      "text/plain": [
       "HBox(children=(IntProgress(value=0), HTML(value='')))"
      ]
     },
     "metadata": {},
     "output_type": "display_data"
    },
    {
     "data": {
      "application/vnd.jupyter.widget-view+json": {
       "model_id": "3282140ce2214bff82cf328676ca6b08",
       "version_major": 2,
       "version_minor": 0
      },
      "text/plain": [
       "HBox(children=(IntProgress(value=0), HTML(value='')))"
      ]
     },
     "metadata": {},
     "output_type": "display_data"
    },
    {
     "data": {
      "application/vnd.jupyter.widget-view+json": {
       "model_id": "4536ac6709f54057b6c17630e0d24cc1",
       "version_major": 2,
       "version_minor": 0
      },
      "text/plain": [
       "HBox(children=(IntProgress(value=0), HTML(value='')))"
      ]
     },
     "metadata": {},
     "output_type": "display_data"
    },
    {
     "data": {
      "application/vnd.jupyter.widget-view+json": {
       "model_id": "0ab54d5368ce43e18e100893b524054f",
       "version_major": 2,
       "version_minor": 0
      },
      "text/plain": [
       "HBox(children=(IntProgress(value=0), HTML(value='')))"
      ]
     },
     "metadata": {},
     "output_type": "display_data"
    },
    {
     "data": {
      "application/vnd.jupyter.widget-view+json": {
       "model_id": "98b9c2c14e8b4b448b36ee16be8dd10a",
       "version_major": 2,
       "version_minor": 0
      },
      "text/plain": [
       "HBox(children=(IntProgress(value=0), HTML(value='')))"
      ]
     },
     "metadata": {},
     "output_type": "display_data"
    },
    {
     "data": {
      "application/vnd.jupyter.widget-view+json": {
       "model_id": "92091bdf9bc14755a78ba078904c8e8a",
       "version_major": 2,
       "version_minor": 0
      },
      "text/plain": [
       "HBox(children=(IntProgress(value=0), HTML(value='')))"
      ]
     },
     "metadata": {},
     "output_type": "display_data"
    },
    {
     "data": {
      "application/vnd.jupyter.widget-view+json": {
       "model_id": "333212539fd94543ae48bd65ee6de51d",
       "version_major": 2,
       "version_minor": 0
      },
      "text/plain": [
       "HBox(children=(IntProgress(value=0), HTML(value='')))"
      ]
     },
     "metadata": {},
     "output_type": "display_data"
    },
    {
     "data": {
      "application/vnd.jupyter.widget-view+json": {
       "model_id": "d47da2c3264a4706a24e424aa07d044d",
       "version_major": 2,
       "version_minor": 0
      },
      "text/plain": [
       "HBox(children=(IntProgress(value=0), HTML(value='')))"
      ]
     },
     "metadata": {},
     "output_type": "display_data"
    },
    {
     "data": {
      "application/vnd.jupyter.widget-view+json": {
       "model_id": "5c3db2dba8684400939f9c74b40bc1c4",
       "version_major": 2,
       "version_minor": 0
      },
      "text/plain": [
       "HBox(children=(IntProgress(value=0), HTML(value='')))"
      ]
     },
     "metadata": {},
     "output_type": "display_data"
    },
    {
     "data": {
      "application/vnd.jupyter.widget-view+json": {
       "model_id": "fde7009668d0434c9727b96439c95cf6",
       "version_major": 2,
       "version_minor": 0
      },
      "text/plain": [
       "HBox(children=(IntProgress(value=0), HTML(value='')))"
      ]
     },
     "metadata": {},
     "output_type": "display_data"
    },
    {
     "data": {
      "application/vnd.jupyter.widget-view+json": {
       "model_id": "9ad37087245a4853b17c3bc980d2a391",
       "version_major": 2,
       "version_minor": 0
      },
      "text/plain": [
       "HBox(children=(IntProgress(value=0), HTML(value='')))"
      ]
     },
     "metadata": {},
     "output_type": "display_data"
    },
    {
     "data": {
      "application/vnd.jupyter.widget-view+json": {
       "model_id": "89b9ecb5459f415aa8115ba44db84732",
       "version_major": 2,
       "version_minor": 0
      },
      "text/plain": [
       "HBox(children=(IntProgress(value=0), HTML(value='')))"
      ]
     },
     "metadata": {},
     "output_type": "display_data"
    },
    {
     "data": {
      "application/vnd.jupyter.widget-view+json": {
       "model_id": "399e55f9ba454b40969fabd7f8c1a0ad",
       "version_major": 2,
       "version_minor": 0
      },
      "text/plain": [
       "HBox(children=(IntProgress(value=0), HTML(value='')))"
      ]
     },
     "metadata": {},
     "output_type": "display_data"
    },
    {
     "data": {
      "application/vnd.jupyter.widget-view+json": {
       "model_id": "4a92a2a2e84848bc99b6df6b865e987c",
       "version_major": 2,
       "version_minor": 0
      },
      "text/plain": [
       "HBox(children=(IntProgress(value=0), HTML(value='')))"
      ]
     },
     "metadata": {},
     "output_type": "display_data"
    },
    {
     "data": {
      "application/vnd.jupyter.widget-view+json": {
       "model_id": "630dd748d39647f5989435a761b96783",
       "version_major": 2,
       "version_minor": 0
      },
      "text/plain": [
       "HBox(children=(IntProgress(value=0), HTML(value='')))"
      ]
     },
     "metadata": {},
     "output_type": "display_data"
    },
    {
     "data": {
      "application/vnd.jupyter.widget-view+json": {
       "model_id": "b2e79b6f50bc4fa99932129ad826a9a0",
       "version_major": 2,
       "version_minor": 0
      },
      "text/plain": [
       "HBox(children=(IntProgress(value=0), HTML(value='')))"
      ]
     },
     "metadata": {},
     "output_type": "display_data"
    },
    {
     "data": {
      "application/vnd.jupyter.widget-view+json": {
       "model_id": "f4b4da711738449eb3c90a3c2b64729a",
       "version_major": 2,
       "version_minor": 0
      },
      "text/plain": [
       "HBox(children=(IntProgress(value=0), HTML(value='')))"
      ]
     },
     "metadata": {},
     "output_type": "display_data"
    },
    {
     "data": {
      "application/vnd.jupyter.widget-view+json": {
       "model_id": "ee329a477a834494af190e3456db5858",
       "version_major": 2,
       "version_minor": 0
      },
      "text/plain": [
       "HBox(children=(IntProgress(value=0), HTML(value='')))"
      ]
     },
     "metadata": {},
     "output_type": "display_data"
    },
    {
     "data": {
      "application/vnd.jupyter.widget-view+json": {
       "model_id": "06964b705850491b8cefcc198f1fd3c7",
       "version_major": 2,
       "version_minor": 0
      },
      "text/plain": [
       "HBox(children=(IntProgress(value=0), HTML(value='')))"
      ]
     },
     "metadata": {},
     "output_type": "display_data"
    },
    {
     "data": {
      "application/vnd.jupyter.widget-view+json": {
       "model_id": "e559cc840eee46f98d15bfe5dcf35088",
       "version_major": 2,
       "version_minor": 0
      },
      "text/plain": [
       "HBox(children=(IntProgress(value=0), HTML(value='')))"
      ]
     },
     "metadata": {},
     "output_type": "display_data"
    }
   ],
   "source": [
    "iterations = 100\n",
    "count = [0] * 10\n",
    "for batch_idx, (inputs, targets) in enumerate(tqdm_notebook(trainloader)):\n",
    "    inputs = inputs.cuda()\n",
    "    targets = targets.cuda()\n",
    "\n",
    "    out = inputs\n",
    "    out = new_robustify(inputs, targets, iterations, classifier)\n",
    "\n",
    "    for i in range(inputs.size(0)):\n",
    "        save_image(out[i], os.path.join(out_dir, str(targets[i].item()), '%d.png'%(count[int(targets[i])])))\n",
    "        count[int(targets[i])] += 1"
   ]
  },
  {
   "cell_type": "code",
   "execution_count": 290,
   "metadata": {},
   "outputs": [
    {
     "data": {
      "application/vnd.jupyter.widget-view+json": {
       "model_id": "cdc9edb6d322429c871acd4f956e5645",
       "version_major": 2,
       "version_minor": 0
      },
      "text/plain": [
       "HBox(children=(IntProgress(value=0, max=391), HTML(value='')))"
      ]
     },
     "metadata": {},
     "output_type": "display_data"
    },
    {
     "data": {
      "application/vnd.jupyter.widget-view+json": {
       "model_id": "6208d23a573d485088d3c0d214a6eeaf",
       "version_major": 2,
       "version_minor": 0
      },
      "text/plain": [
       "HBox(children=(IntProgress(value=0), HTML(value='')))"
      ]
     },
     "metadata": {},
     "output_type": "display_data"
    }
   ],
   "source": [
    "for batch_idx, (inputs, targets) in enumerate(tqdm_notebook(trainloader)):\n",
    "    continue\n",
    "\n",
    "inputs = inputs.cuda()\n",
    "targets = targets.cuda()\n",
    "out = inputs.clone()\n",
    "out_madry = inputs.clone()\n",
    "out = new_robustify(out, targets, 100, classifier)\n",
    "out_madry = madry_robustify(out)"
   ]
  },
  {
   "cell_type": "code",
   "execution_count": 286,
   "metadata": {},
   "outputs": [
    {
     "name": "stdout",
     "output_type": "stream",
     "text": [
      "tensor(1., device='cuda:0')\n",
      "tensor(1., device='cuda:0')\n",
      "tensor(0.9875, device='cuda:0')\n"
     ]
    }
   ],
   "source": [
    "# save_image(out, 'robust.png')\n",
    "# adv = util.BIM(out.detach(), classifier, targets, 8/255, itr_eps=1 / 255, itr=20)\n",
    "strong_adversary = L2PGDAttack(\n",
    "    adv_model, eps=0.5, eps_iter=0.25/5, nb_iter=100,\n",
    "    rand_init=True, targeted=False)\n",
    "\n",
    "adv = strong_adversary.perturb(out.detach(), targets)\n",
    "robust_label = classifier(normalize(out)).argmax(1)\n",
    "adv_label = classifier(normalize(adv)).argmax(1)\n",
    "\n",
    "print((targets==robust_label).sum().float()/ inputs.size(0))\n",
    "print((targets==adv_label).sum().float()/inputs.size(0))\n",
    "\n",
    "classifier_dense = torch.nn.DataParallel(DenseNet121()).cuda().eval()\n",
    "checkpoint = torch.load('./checkpoint/ckpt_dense.t7')\n",
    "classifier_dense.load_state_dict(checkpoint['net'])\n",
    "\n",
    "dense_label = classifier_dense(normalize(out)).argmax(1)\n",
    "\n",
    "print((targets==dense_label).sum().float()/ inputs.size(0))"
   ]
  },
  {
   "cell_type": "code",
   "execution_count": 293,
   "metadata": {},
   "outputs": [
    {
     "data": {
      "image/png": "[encoded data removed]",
      "text/plain": [
       "<Figure size 432x288 with 1 Axes>"
      ]
     },
     "metadata": {
      "needs_background": "light"
     },
     "output_type": "display_data"
    },
    {
     "data": {
      "image/png": "[encoded data removed]",
      "text/plain": [
       "<Figure size 432x288 with 1 Axes>"
      ]
     },
     "metadata": {
      "needs_background": "light"
     },
     "output_type": "display_data"
    },
    {
     "data": {
      "image/png": "[encoded data removed]",
      "text/plain": [
       "<Figure size 432x288 with 1 Axes>"
      ]
     },
     "metadata": {
      "needs_background": "light"
     },
     "output_type": "display_data"
    }
   ],
   "source": [
    "idx = 12\n",
    "util.display_image(inputs[idx])\n",
    "util.display_image(out[idx])\n",
    "util.display_image(out_madry[idx])"
   ]
  },
  {
   "cell_type": "code",
   "execution_count": 175,
   "metadata": {},
   "outputs": [
    {
     "name": "stdout",
     "output_type": "stream",
     "text": [
      "dog\n"
     ]
    },
    {
     "data": {
      "image/png": "[encoded data removed]",
      "text/plain": [
       "<Figure size 432x288 with 1 Axes>"
      ]
     },
     "metadata": {
      "needs_background": "light"
     },
     "output_type": "display_data"
    },
    {
     "data": {
      "image/png": "[encoded data removed]",
      "text/plain": [
       "<Figure size 432x288 with 1 Axes>"
      ]
     },
     "metadata": {
      "needs_background": "light"
     },
     "output_type": "display_data"
    }
   ],
   "source": [
    "def mixup_data(x, y, alpha=0.5):\n",
    "    '''Returns mixed inputs, pairs of targets, and lambda'''\n",
    "    batch_size = x.size()[0]\n",
    "    index = torch.randperm(batch_size).cuda()\n",
    "    \n",
    "    y_onehot = torch.FloatTensor(x.size(0), 10).cuda()\n",
    "    y_onehot.zero_()\n",
    "    y_onehot.scatter_(1, y.unsqueeze(1), 1)\n",
    "\n",
    "    mixed_x = (1-alpha) * x + (alpha) * x[index, :]\n",
    "    mixed_y = (1-alpha) * y_onehot + alpha * y_onehot[index]\n",
    "    return mixed_x, mixed_y\n",
    "\n",
    "mix, mix_y = mixup_data(inputs, targets)\n",
    "idx = 4\n",
    "util.display_image(mix[idx])\n",
    "util.display_image(inputs[idx])\n",
    "print(classes[targets[idx]])"
   ]
  },
  {
   "cell_type": "code",
   "execution_count": null,
   "metadata": {},
   "outputs": [],
   "source": [
    "MEAN = torch.Tensor([0.4914, 0.4822, 0.4465])\n",
    "STD = torch.Tensor([0.2023, 0.1994, 0.2010])\n",
    "norm = NormalizeByChannelMeanStd(mean=MEAN, std=STD)\n",
    "\n",
    "net = nn.Sequential(norm, ResNet18()).cuda()\n",
    "net = torch.nn.DataParallel(net)\n",
    "print(len(net.state_dict().items()), [k for k,v in net.state_dict().items()], '\\n')\n",
    "\n",
    "checkpoint = torch.load('./checkpoint/ckpt_madry+grad.t7')\n",
    "print(len(checkpoint['net'].items()), [k for k,v in checkpoint['net'].items()])\n",
    "\n",
    "# a = list(net.state_dict())\n",
    "# sorted(a)\n",
    "# b= list(checkpoint['net'])\n",
    "# sorted(b)\n",
    "# for i, key in enumerate(a):\n",
    "#     key2 = b[i]\n",
    "#     print(i, key, key2)\n",
    "#     checkpoint['net'][key] = checkpoint['net'].pop(key2)\n",
    "\n",
    "print([k for k,v in checkpoint['net'].items()])\n",
    "torch.save(checkpoint, './checkpoint/ckpt_madry+grad.t7')"
   ]
  },
  {
   "cell_type": "code",
   "execution_count": null,
   "metadata": {},
   "outputs": [],
   "source": []
  }
 ],
 "metadata": {
  "kernelspec": {
   "display_name": "py36",
   "language": "python",
   "name": "py36"
  },
  "language_info": {
   "codemirror_mode": {
    "name": "ipython",
    "version": 3
   },
   "file_extension": ".py",
   "mimetype": "text/x-python",
   "name": "python",
   "nbconvert_exporter": "python",
   "pygments_lexer": "ipython3",
   "version": "3.6.8"
  }
 },
 "nbformat": 4,
 "nbformat_minor": 2
}
