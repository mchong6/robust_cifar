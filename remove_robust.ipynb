{
 "cells": [
  {
   "cell_type": "code",
   "execution_count": 1,
   "metadata": {},
   "outputs": [],
   "source": [
    "%load_ext autoreload\n",
    "%autoreload 2\n",
    "import os\n",
    "from PIL import Image\n",
    "import numpy as np\n",
    "import torch\n",
    "import torchvision.transforms as transforms\n",
    "from torch.utils.data import Dataset\n",
    "import torch.nn.functional as F \n",
    "from torch import autograd\n",
    "from torch import optim\n",
    "from torch.autograd import Variable\n",
    "os.environ[\"CUDA_VISIBLE_DEVICES\"]=\"1\"\n",
    "\n",
    "import torchvision\n",
    "from torchvision.utils import save_image\n",
    "import torch.backends.cudnn as cudnn\n",
    "import torch.nn as nn\n",
    "import json\n",
    "import util\n",
    "from tqdm import tqdm_notebook\n",
    "from models import *\n",
    "\n",
    "cudnn.benchmark = True\n",
    "from advertorch.attacks import LinfPGDAttack, L2PGDAttack\n",
    "from advertorch.utils import NormalizeByChannelMeanStd\n",
    "import random\n",
    "import kornia"
   ]
  },
  {
   "cell_type": "code",
   "execution_count": 2,
   "metadata": {},
   "outputs": [
    {
     "name": "stdout",
     "output_type": "stream",
     "text": [
      "Files already downloaded and verified\n"
     ]
    }
   ],
   "source": [
    "MEAN = torch.Tensor([0.4914, 0.4822, 0.4465])\n",
    "STD = torch.Tensor([0.2023, 0.1994, 0.2010])\n",
    "\n",
    "\n",
    "def unnormalize(im):\n",
    "    mean = MEAN.cuda() if im.is_cuda else MEAN\n",
    "    std = STD.cuda() if im.is_cuda else STD\n",
    "\n",
    "    if im.dim() == 4:\n",
    "        im = im.transpose(1, 3)\n",
    "        im = im * std + mean\n",
    "        im = im.transpose(1, 3)\n",
    "    else:\n",
    "        im = im.transpose(0, 2)\n",
    "        im = im * std + mean\n",
    "        im = im.transpose(0, 2)\n",
    "\n",
    "    return im\n",
    "\n",
    "\n",
    "def normalize(im):\n",
    "    mean = MEAN.cuda() if im.is_cuda else MEAN\n",
    "    std = STD.cuda() if im.is_cuda else STD\n",
    "\n",
    "    if im.dim() == 4:\n",
    "        im = im.transpose(1, 3)\n",
    "        im = (im - mean) / std\n",
    "        im = im.transpose(1, 3)\n",
    "    else:\n",
    "        im = im.transpose(0, 2)\n",
    "        im = (im - mean) / std\n",
    "        im = im.transpose(0, 2)\n",
    "\n",
    "    return im\n",
    "\n",
    "def BIM(image, classifier, target, max_eps, itr_eps=1 / 255, itr=20):\n",
    "    eps = torch.zeros_like(image).cuda()\n",
    "    for _ in range(itr):\n",
    "        eps.requires_grad = True\n",
    "        with torch.enable_grad():\n",
    "            output = classifier(normalize((image+eps).clamp(0,1)))\n",
    "            loss = F.cross_entropy(\n",
    "                output, target, size_average=False\n",
    "            )\n",
    "        grad = torch.autograd.grad(loss, [eps])[0]\n",
    "        eps = eps + itr_eps * torch.sign(grad.detach())\n",
    "        eps = eps.clamp(-max_eps, max_eps).detach()\n",
    "    return eps\n",
    "\n",
    "transform = transforms.Compose([\n",
    "    transforms.ToTensor(),\n",
    "])\n",
    "\n",
    "\n",
    "criterion = nn.CrossEntropyLoss()\n",
    "classes = ('plane', 'car', 'bird', 'cat', 'deer', 'dog', 'frog', 'horse', 'ship', 'truck')\n",
    "# criterion = nn.MSELoss()\n",
    "\n",
    "norm = NormalizeByChannelMeanStd(\n",
    "    mean=MEAN, std=STD)\n",
    "\n",
    "classifier = torch.nn.DataParallel(ResNet18()).cuda().eval()\n",
    "classifier_feat = torch.nn.DataParallel(ResNet18_feat()).cuda().eval()\n",
    "\n",
    "checkpoint = torch.load('./checkpoint/ckpt.t7')\n",
    "# checkpoint = torch.load('./checkpoint/ckpt_ccumulate_10_scale1_warm1.t7')\n",
    "classifier.load_state_dict(checkpoint['net'])\n",
    "classifier_feat.load_state_dict(checkpoint['net'])\n",
    "\n",
    "trainset = torchvision.datasets.CIFAR10(root='./data', train=True, download=True, transform=transform)\n",
    "# trainset = torchvision.datasets.ImageFolder(root='./robust_data', transform=transform)\n",
    "trainloader = torch.utils.data.DataLoader(trainset, batch_size=384, shuffle=True, num_workers=2)\n",
    "\n",
    "out_dir = './robust_data_bs1'\n",
    "util.create_dirs(out_dir)\n",
    "for i in range(10):\n",
    "    util.create_dirs(os.path.join(out_dir, str(i)))\n",
    "\n",
    "max_eps = 8/255\n",
    "\n",
    "\n",
    "classifier = nn.Sequential(norm, classifier).cuda()\n",
    "\n",
    "adversary = LinfPGDAttack(\n",
    "    classifier, eps=8. / 255, eps_iter=2 / 255, nb_iter=10,\n",
    "    rand_init=True, targeted=False)\n",
    "\n",
    "strong_adversary = LinfPGDAttack(\n",
    "    classifier, eps=8. / 255, eps_iter=1 / 255, nb_iter=50,\n",
    "    rand_init=True, targeted=False)\n",
    "\n",
    "# eps = 1.\n",
    "# adversary = L2PGDAttack(\n",
    "#     classifier, eps=eps, eps_iter=eps/5, nb_iter=10,\n",
    "#     rand_init=True, targeted=False)\n",
    "\n",
    "# adversary = L2PGDAttack(\n",
    "#     adv_model, eps=eps, eps_iter=eps/10, nb_iter=30,\n",
    "#     rand_init=True, targeted=False)"
   ]
  },
  {
   "cell_type": "code",
   "execution_count": 12,
   "metadata": {},
   "outputs": [],
   "source": [
    "def new_robustify(im, target, iterations, classifier):\n",
    "    with torch.no_grad():\n",
    "        target_feat, _ = classifier_feat(normalize(im))\n",
    "        \n",
    "    index = torch.randperm(im.size(0)).cuda()\n",
    "    im = im[index] \n",
    "\n",
    "    for j in tqdm_notebook(range(iterations)):\n",
    "        im.requires_grad_()\n",
    "        total_loss = 0\n",
    "\n",
    "        eps = (adversary.perturb(im, target) - im).detach()\n",
    "        output = classifier(normalize((im + eps).clamp(0, 1)))\n",
    "        xe_loss =criterion(output, target) \n",
    "        \n",
    "        output_feat, _ = classifier_feat(normalize((im).clamp(0, 1)))\n",
    "        feat_loss = 1e-1 * F.mse_loss(output_feat[-1], target_feat[-1])\n",
    "        \n",
    "        print(j, xe_loss.item(), feat_loss.item())\n",
    "        total_loss = total_loss + xe_loss + feat_loss\n",
    "        if xe_loss < 1e-4:\n",
    "            return im.clamp(0,1)\n",
    "        \n",
    "        total_loss.backward()\n",
    "        im = (im - 0.5/255*im.grad.data.sign()).clamp(0,1).detach()\n",
    "#         im = (im - 0.1*im.grad.data/im.grad.data.norm(2, dim=(1,2,3))[:,None,None,None]).clamp(0,1).detach()\n",
    "\n",
    "    out = (im).clamp(0, 1)\n",
    "    return out\n",
    "\n",
    "def madry_robustify(im, iterations=1000):\n",
    "    index = torch.randperm(im.size(0)).cuda()\n",
    "    shuffled_im = im[index] \n",
    "    with torch.no_grad():\n",
    "        target_feat, _ = classifier_feat(normalize(im))\n",
    "    \n",
    "    for i in range(iterations):\n",
    "        shuffled_im.requires_grad_()\n",
    "        output_feat, _ = classifier_feat(normalize(shuffled_im))\n",
    "        loss = F.mse_loss(output_feat[-1], target_feat[-1])\n",
    "        loss.backward()\n",
    "        shuffled_im = (shuffled_im - 0.1*shuffled_im.grad.data/shuffled_im.grad.data.norm(2, dim=(1,2,3))[:,None,None,None]).clamp(0,1).detach()\n",
    "        \n",
    "    return shuffled_im\n",
    "\n",
    "def jitter(X, max_jitter=16):\n",
    "    \"\"\"\n",
    "    Helper function to randomly jitter an image.\n",
    "    \n",
    "    Inputs\n",
    "    - X: PyTorch Tensor of shape (N, C, H, W)\n",
    "    - ox, oy: Integers giving number of pixels to jitter along W and H axes\n",
    "    \n",
    "    Returns: A new PyTorch Tensor of shape (N, C, H, W)\n",
    "    \"\"\"\n",
    "    ox, oy = random.randint(0, max_jitter), random.randint(0, max_jitter)\n",
    "    if ox != 0:\n",
    "        left = X[:, :, :, :-ox]\n",
    "        right = X[:, :, :, -ox:]\n",
    "        X = torch.cat([right, left], dim=3)\n",
    "    if oy != 0:\n",
    "        top = X[:, :, :-oy]\n",
    "        bottom = X[:, :, -oy:]\n",
    "        X = torch.cat([bottom, top], dim=2)\n",
    "    return X\n",
    "\n",
    "def transformation(x):\n",
    "#     x = F.pad(x, (4,4,4,4), 'constant', 0.5)\n",
    "    x = jitter(x, 4)\n",
    "#     x = F.interpolate(x, scale_factor=np.random.uniform(0.9, 1.1), mode=\"bilinear\")\n",
    "    rotations = list(range(-10, 11)) + 5 * [0]\n",
    "    angle = torch.ones(1) * random.choice(rotations)\n",
    "    center = torch.ones(1, 2)\n",
    "    center[..., 0] = x.shape[3] / 2  # x\n",
    "    center[..., 1] = x.shape[2] / 2  # y\n",
    "    M = kornia.get_rotation_matrix2d(center, angle, scale=torch.FloatTensor([np.random.uniform(0.8, 1.2)])).cuda()\n",
    "    M = M.expand(x.size(0), -1, -1)\n",
    "    _, _, h, w = x.shape\n",
    "    x = kornia.warp_affine(x, M, dsize=(h, w))    \n",
    "    x = jitter(x, 2)\n",
    "    return x\n",
    "\n",
    "def test_robustify(im, target, iterations, count, classifier):\n",
    "    with tqdm_notebook(total=iterations, leave=False) as t:\n",
    "        for j in range(iterations):\n",
    "            im.requires_grad_()\n",
    "            total_loss = 0\n",
    "            \n",
    "\n",
    "            eps = (adversary.perturb(im, target) - im).detach()\n",
    "            output = classifier((im + eps).clamp(0, 1))\n",
    "            loss = F.cross_entropy(output, target, reduction='none')\n",
    "            total_loss += loss.mean()\n",
    "            \n",
    "            t_im = transformation(im)\n",
    "            t_output = classifier(t_im)\n",
    "            t_loss = criterion(t_output, target)\n",
    "            total_loss += t_loss\n",
    "            \n",
    "            equal_idx = ((output.argmax(1) == target) * (loss < 1e-5))\n",
    "\n",
    "            total_loss.backward()\n",
    "            im = (im - 0.2*im.grad.data/im.grad.data.norm(2, dim=(1,2,3))[:,None,None,None]).clamp(0,1).detach()\n",
    "    \n",
    "            for idx in equal_idx.nonzero():\n",
    "                save_image(im[idx].clamp(0,1), os.path.join(out_dir, str(target[idx].item()), '%d.png'%(count[int(target[idx])])))\n",
    "                count[int(target[idx])] += 1\n",
    "            im = im[1-equal_idx]\n",
    "            target = target[1-equal_idx]\n",
    "            if im.size(0) == 0:\n",
    "                return count\n",
    "\n",
    "            t.set_postfix(l1='{:03.7f}'.format(loss.mean().item()))\n",
    "            t.update()\n",
    "            \n",
    "        for idx in range(im.size(0)):\n",
    "            save_image(im[idx].clamp(0,1), os.path.join(out_dir, str(target[idx].item()), '%d.png'%(count[int(target[idx])])))\n",
    "            count[int(target[idx])] += 1\n",
    "\n",
    "    return count"
   ]
  },
  {
   "cell_type": "code",
   "execution_count": 4,
   "metadata": {},
   "outputs": [
    {
     "name": "stdout",
     "output_type": "stream",
     "text": [
      "tensor([[0],\n",
      "        [3]])\n",
      "tensor([0]) torch.Size([1])\n",
      "tensor([3]) torch.Size([1])\n"
     ]
    },
    {
     "data": {
      "text/plain": [
       "tensor([2, 3])"
      ]
     },
     "execution_count": 4,
     "metadata": {},
     "output_type": "execute_result"
    }
   ],
   "source": [
    "z = torch.tensor([1,2,3,4])\n",
    "y = torch.tensor([1,2,5,4])\n",
    "x = torch.tensor([.1,.2,.1,.1])\n",
    "\n",
    "eq = ((z==y) * (x < .15))\n",
    "print(eq.nonzero())\n",
    "for i in eq.nonzero():\n",
    "    print(i, i.shape)\n",
    "z[1-eq]"
   ]
  },
  {
   "cell_type": "code",
   "execution_count": null,
   "metadata": {},
   "outputs": [
    {
     "data": {
      "application/vnd.jupyter.widget-view+json": {
       "model_id": "e05fae48dca44f788fbf7c5f98709bc1",
       "version_major": 2,
       "version_minor": 0
      },
      "text/plain": [
       "HBox(children=(IntProgress(value=0, max=131), HTML(value='')))"
      ]
     },
     "metadata": {},
     "output_type": "display_data"
    },
    {
     "data": {
      "application/vnd.jupyter.widget-view+json": {
       "model_id": "b242416ba6f24583b1840a320adef9b0",
       "version_major": 2,
       "version_minor": 0
      },
      "text/plain": [
       "HBox(children=(IntProgress(value=0, max=200), HTML(value='')))"
      ]
     },
     "metadata": {},
     "output_type": "display_data"
    },
    {
     "data": {
      "application/vnd.jupyter.widget-view+json": {
       "model_id": "712b111b8d1a4055a3727d16751d0cc1",
       "version_major": 2,
       "version_minor": 0
      },
      "text/plain": [
       "HBox(children=(IntProgress(value=0, max=200), HTML(value='')))"
      ]
     },
     "metadata": {},
     "output_type": "display_data"
    },
    {
     "data": {
      "application/vnd.jupyter.widget-view+json": {
       "model_id": "56518111ddeb40a1bae6d50e1811c5b1",
       "version_major": 2,
       "version_minor": 0
      },
      "text/plain": [
       "HBox(children=(IntProgress(value=0, max=200), HTML(value='')))"
      ]
     },
     "metadata": {},
     "output_type": "display_data"
    },
    {
     "data": {
      "application/vnd.jupyter.widget-view+json": {
       "model_id": "5966678d2cbc417a9319212adc8519a3",
       "version_major": 2,
       "version_minor": 0
      },
      "text/plain": [
       "HBox(children=(IntProgress(value=0, max=200), HTML(value='')))"
      ]
     },
     "metadata": {},
     "output_type": "display_data"
    },
    {
     "data": {
      "application/vnd.jupyter.widget-view+json": {
       "model_id": "f84c7eb9886249748f88e16a4c809c6c",
       "version_major": 2,
       "version_minor": 0
      },
      "text/plain": [
       "HBox(children=(IntProgress(value=0, max=200), HTML(value='')))"
      ]
     },
     "metadata": {},
     "output_type": "display_data"
    },
    {
     "data": {
      "application/vnd.jupyter.widget-view+json": {
       "model_id": "739f970653c243a385eb5aeac14bb9d0",
       "version_major": 2,
       "version_minor": 0
      },
      "text/plain": [
       "HBox(children=(IntProgress(value=0, max=200), HTML(value='')))"
      ]
     },
     "metadata": {},
     "output_type": "display_data"
    },
    {
     "data": {
      "application/vnd.jupyter.widget-view+json": {
       "model_id": "8a46b0932771404ca6cea6d69d623802",
       "version_major": 2,
       "version_minor": 0
      },
      "text/plain": [
       "HBox(children=(IntProgress(value=0, max=200), HTML(value='')))"
      ]
     },
     "metadata": {},
     "output_type": "display_data"
    },
    {
     "data": {
      "application/vnd.jupyter.widget-view+json": {
       "model_id": "b788aa6637bd4b9ba9c5f9b026c9963f",
       "version_major": 2,
       "version_minor": 0
      },
      "text/plain": [
       "HBox(children=(IntProgress(value=0, max=200), HTML(value='')))"
      ]
     },
     "metadata": {},
     "output_type": "display_data"
    },
    {
     "data": {
      "application/vnd.jupyter.widget-view+json": {
       "model_id": "1c97689a85634c43981bf957ee14e498",
       "version_major": 2,
       "version_minor": 0
      },
      "text/plain": [
       "HBox(children=(IntProgress(value=0, max=200), HTML(value='')))"
      ]
     },
     "metadata": {},
     "output_type": "display_data"
    },
    {
     "data": {
      "application/vnd.jupyter.widget-view+json": {
       "model_id": "02143f6a4fd44df28ca38eb35281470b",
       "version_major": 2,
       "version_minor": 0
      },
      "text/plain": [
       "HBox(children=(IntProgress(value=0, max=200), HTML(value='')))"
      ]
     },
     "metadata": {},
     "output_type": "display_data"
    },
    {
     "data": {
      "application/vnd.jupyter.widget-view+json": {
       "model_id": "e7ac235c924046a5bda08f04f13507f2",
       "version_major": 2,
       "version_minor": 0
      },
      "text/plain": [
       "HBox(children=(IntProgress(value=0, max=200), HTML(value='')))"
      ]
     },
     "metadata": {},
     "output_type": "display_data"
    },
    {
     "data": {
      "application/vnd.jupyter.widget-view+json": {
       "model_id": "8fa71fee18164bd4812278361337278c",
       "version_major": 2,
       "version_minor": 0
      },
      "text/plain": [
       "HBox(children=(IntProgress(value=0, max=200), HTML(value='')))"
      ]
     },
     "metadata": {},
     "output_type": "display_data"
    },
    {
     "data": {
      "application/vnd.jupyter.widget-view+json": {
       "model_id": "665fa8d8de7c413a9803880d3e2942e6",
       "version_major": 2,
       "version_minor": 0
      },
      "text/plain": [
       "HBox(children=(IntProgress(value=0, max=200), HTML(value='')))"
      ]
     },
     "metadata": {},
     "output_type": "display_data"
    },
    {
     "data": {
      "application/vnd.jupyter.widget-view+json": {
       "model_id": "795cd626b6334f1c96177738da97e738",
       "version_major": 2,
       "version_minor": 0
      },
      "text/plain": [
       "HBox(children=(IntProgress(value=0, max=200), HTML(value='')))"
      ]
     },
     "metadata": {},
     "output_type": "display_data"
    },
    {
     "data": {
      "application/vnd.jupyter.widget-view+json": {
       "model_id": "574444a86a764c5c9b12fc3bf0f6de66",
       "version_major": 2,
       "version_minor": 0
      },
      "text/plain": [
       "HBox(children=(IntProgress(value=0, max=200), HTML(value='')))"
      ]
     },
     "metadata": {},
     "output_type": "display_data"
    },
    {
     "data": {
      "application/vnd.jupyter.widget-view+json": {
       "model_id": "df202850c8aa4b5bbd628fe771b67edf",
       "version_major": 2,
       "version_minor": 0
      },
      "text/plain": [
       "HBox(children=(IntProgress(value=0, max=200), HTML(value='')))"
      ]
     },
     "metadata": {},
     "output_type": "display_data"
    },
    {
     "data": {
      "application/vnd.jupyter.widget-view+json": {
       "model_id": "a0417d864c034989a626c81f07ef0966",
       "version_major": 2,
       "version_minor": 0
      },
      "text/plain": [
       "HBox(children=(IntProgress(value=0, max=200), HTML(value='')))"
      ]
     },
     "metadata": {},
     "output_type": "display_data"
    },
    {
     "data": {
      "application/vnd.jupyter.widget-view+json": {
       "model_id": "3cc2a211c97e4029b567bf30f95ae2d4",
       "version_major": 2,
       "version_minor": 0
      },
      "text/plain": [
       "HBox(children=(IntProgress(value=0, max=200), HTML(value='')))"
      ]
     },
     "metadata": {},
     "output_type": "display_data"
    },
    {
     "data": {
      "application/vnd.jupyter.widget-view+json": {
       "model_id": "fe902d033cb94f96bea73503aed41533",
       "version_major": 2,
       "version_minor": 0
      },
      "text/plain": [
       "HBox(children=(IntProgress(value=0, max=200), HTML(value='')))"
      ]
     },
     "metadata": {},
     "output_type": "display_data"
    },
    {
     "data": {
      "application/vnd.jupyter.widget-view+json": {
       "model_id": "383e85449901462e93d77f481e30c03a",
       "version_major": 2,
       "version_minor": 0
      },
      "text/plain": [
       "HBox(children=(IntProgress(value=0, max=200), HTML(value='')))"
      ]
     },
     "metadata": {},
     "output_type": "display_data"
    },
    {
     "data": {
      "application/vnd.jupyter.widget-view+json": {
       "model_id": "99a6f37d8cfd4f1490b611fe4572e76a",
       "version_major": 2,
       "version_minor": 0
      },
      "text/plain": [
       "HBox(children=(IntProgress(value=0, max=200), HTML(value='')))"
      ]
     },
     "metadata": {},
     "output_type": "display_data"
    },
    {
     "data": {
      "application/vnd.jupyter.widget-view+json": {
       "model_id": "8d8bc12539d74212af4b4a324a7d67e2",
       "version_major": 2,
       "version_minor": 0
      },
      "text/plain": [
       "HBox(children=(IntProgress(value=0, max=200), HTML(value='')))"
      ]
     },
     "metadata": {},
     "output_type": "display_data"
    },
    {
     "data": {
      "application/vnd.jupyter.widget-view+json": {
       "model_id": "676b9e4e7d6b4333850b74387bf72534",
       "version_major": 2,
       "version_minor": 0
      },
      "text/plain": [
       "HBox(children=(IntProgress(value=0, max=200), HTML(value='')))"
      ]
     },
     "metadata": {},
     "output_type": "display_data"
    },
    {
     "data": {
      "application/vnd.jupyter.widget-view+json": {
       "model_id": "eb5c35e1cfad44fc85dfac496d8e5d80",
       "version_major": 2,
       "version_minor": 0
      },
      "text/plain": [
       "HBox(children=(IntProgress(value=0, max=200), HTML(value='')))"
      ]
     },
     "metadata": {},
     "output_type": "display_data"
    },
    {
     "data": {
      "application/vnd.jupyter.widget-view+json": {
       "model_id": "3e86240f222844148570916d756c5116",
       "version_major": 2,
       "version_minor": 0
      },
      "text/plain": [
       "HBox(children=(IntProgress(value=0, max=200), HTML(value='')))"
      ]
     },
     "metadata": {},
     "output_type": "display_data"
    },
    {
     "data": {
      "application/vnd.jupyter.widget-view+json": {
       "model_id": "a14110ae884e4fac95440b1f66ebad11",
       "version_major": 2,
       "version_minor": 0
      },
      "text/plain": [
       "HBox(children=(IntProgress(value=0, max=200), HTML(value='')))"
      ]
     },
     "metadata": {},
     "output_type": "display_data"
    },
    {
     "data": {
      "application/vnd.jupyter.widget-view+json": {
       "model_id": "8d2386bf873e498fb2e8140be8bd9856",
       "version_major": 2,
       "version_minor": 0
      },
      "text/plain": [
       "HBox(children=(IntProgress(value=0, max=200), HTML(value='')))"
      ]
     },
     "metadata": {},
     "output_type": "display_data"
    },
    {
     "data": {
      "application/vnd.jupyter.widget-view+json": {
       "model_id": "87237c8aa61441cea1f1a40b38b0e85a",
       "version_major": 2,
       "version_minor": 0
      },
      "text/plain": [
       "HBox(children=(IntProgress(value=0, max=200), HTML(value='')))"
      ]
     },
     "metadata": {},
     "output_type": "display_data"
    },
    {
     "data": {
      "application/vnd.jupyter.widget-view+json": {
       "model_id": "971ab503d7fd49709dc10375f02435d2",
       "version_major": 2,
       "version_minor": 0
      },
      "text/plain": [
       "HBox(children=(IntProgress(value=0, max=200), HTML(value='')))"
      ]
     },
     "metadata": {},
     "output_type": "display_data"
    },
    {
     "data": {
      "application/vnd.jupyter.widget-view+json": {
       "model_id": "0dd790b32aee4ab6ae2cd844768227b6",
       "version_major": 2,
       "version_minor": 0
      },
      "text/plain": [
       "HBox(children=(IntProgress(value=0, max=200), HTML(value='')))"
      ]
     },
     "metadata": {},
     "output_type": "display_data"
    },
    {
     "data": {
      "application/vnd.jupyter.widget-view+json": {
       "model_id": "4918ca0805044e83bd045df9f709ae8a",
       "version_major": 2,
       "version_minor": 0
      },
      "text/plain": [
       "HBox(children=(IntProgress(value=0, max=200), HTML(value='')))"
      ]
     },
     "metadata": {},
     "output_type": "display_data"
    },
    {
     "data": {
      "application/vnd.jupyter.widget-view+json": {
       "model_id": "",
       "version_major": 2,
       "version_minor": 0
      },
      "text/plain": [
       "HBox(children=(IntProgress(value=0, max=200), HTML(value='')))"
      ]
     },
     "metadata": {},
     "output_type": "display_data"
    },
    {
     "data": {
      "application/vnd.jupyter.widget-view+json": {
       "model_id": "cb3274a40d024cf6b35bd8726a1f5722",
       "version_major": 2,
       "version_minor": 0
      },
      "text/plain": [
       "HBox(children=(IntProgress(value=0, max=200), HTML(value='')))"
      ]
     },
     "metadata": {},
     "output_type": "display_data"
    },
    {
     "data": {
      "application/vnd.jupyter.widget-view+json": {
       "model_id": "359843acf7ce4e6da8667b258254c40e",
       "version_major": 2,
       "version_minor": 0
      },
      "text/plain": [
       "HBox(children=(IntProgress(value=0, max=200), HTML(value='')))"
      ]
     },
     "metadata": {},
     "output_type": "display_data"
    },
    {
     "data": {
      "application/vnd.jupyter.widget-view+json": {
       "model_id": "6b139666ae144b3fa27330a77c91fcee",
       "version_major": 2,
       "version_minor": 0
      },
      "text/plain": [
       "HBox(children=(IntProgress(value=0, max=200), HTML(value='')))"
      ]
     },
     "metadata": {},
     "output_type": "display_data"
    },
    {
     "data": {
      "application/vnd.jupyter.widget-view+json": {
       "model_id": "8857736ea4ed494d8e50e85a36c7fc85",
       "version_major": 2,
       "version_minor": 0
      },
      "text/plain": [
       "HBox(children=(IntProgress(value=0, max=200), HTML(value='')))"
      ]
     },
     "metadata": {},
     "output_type": "display_data"
    },
    {
     "data": {
      "application/vnd.jupyter.widget-view+json": {
       "model_id": "299907a1d0e14eaca9ea06d3365b3e0c",
       "version_major": 2,
       "version_minor": 0
      },
      "text/plain": [
       "HBox(children=(IntProgress(value=0, max=200), HTML(value='')))"
      ]
     },
     "metadata": {},
     "output_type": "display_data"
    },
    {
     "data": {
      "application/vnd.jupyter.widget-view+json": {
       "model_id": "afeac5a3a1a34c78842ad0f8a9536afb",
       "version_major": 2,
       "version_minor": 0
      },
      "text/plain": [
       "HBox(children=(IntProgress(value=0, max=200), HTML(value='')))"
      ]
     },
     "metadata": {},
     "output_type": "display_data"
    },
    {
     "data": {
      "application/vnd.jupyter.widget-view+json": {
       "model_id": "64b4c1997f5c47eaab11d1ca511d0e90",
       "version_major": 2,
       "version_minor": 0
      },
      "text/plain": [
       "HBox(children=(IntProgress(value=0, max=200), HTML(value='')))"
      ]
     },
     "metadata": {},
     "output_type": "display_data"
    },
    {
     "data": {
      "application/vnd.jupyter.widget-view+json": {
       "model_id": "9f32228700e74826902fd79f875e675d",
       "version_major": 2,
       "version_minor": 0
      },
      "text/plain": [
       "HBox(children=(IntProgress(value=0, max=200), HTML(value='')))"
      ]
     },
     "metadata": {},
     "output_type": "display_data"
    },
    {
     "data": {
      "application/vnd.jupyter.widget-view+json": {
       "model_id": "b2cae4a0eff7428a8433fd0c259a15d6",
       "version_major": 2,
       "version_minor": 0
      },
      "text/plain": [
       "HBox(children=(IntProgress(value=0, max=200), HTML(value='')))"
      ]
     },
     "metadata": {},
     "output_type": "display_data"
    },
    {
     "data": {
      "application/vnd.jupyter.widget-view+json": {
       "model_id": "b2e92ace7f9e4adeb9ac4e2ca4fe7199",
       "version_major": 2,
       "version_minor": 0
      },
      "text/plain": [
       "HBox(children=(IntProgress(value=0, max=200), HTML(value='')))"
      ]
     },
     "metadata": {},
     "output_type": "display_data"
    },
    {
     "data": {
      "application/vnd.jupyter.widget-view+json": {
       "model_id": "01593983dcaa4e45b9b70e89fb2a3011",
       "version_major": 2,
       "version_minor": 0
      },
      "text/plain": [
       "HBox(children=(IntProgress(value=0, max=200), HTML(value='')))"
      ]
     },
     "metadata": {},
     "output_type": "display_data"
    },
    {
     "data": {
      "application/vnd.jupyter.widget-view+json": {
       "model_id": "839935a3cd6e48068072c014db499936",
       "version_major": 2,
       "version_minor": 0
      },
      "text/plain": [
       "HBox(children=(IntProgress(value=0, max=200), HTML(value='')))"
      ]
     },
     "metadata": {},
     "output_type": "display_data"
    },
    {
     "data": {
      "application/vnd.jupyter.widget-view+json": {
       "model_id": "7b1ba28c4f9a429c8bd9084907210606",
       "version_major": 2,
       "version_minor": 0
      },
      "text/plain": [
       "HBox(children=(IntProgress(value=0, max=200), HTML(value='')))"
      ]
     },
     "metadata": {},
     "output_type": "display_data"
    },
    {
     "data": {
      "application/vnd.jupyter.widget-view+json": {
       "model_id": "9d20802187124fd4956f7f58ac482cf0",
       "version_major": 2,
       "version_minor": 0
      },
      "text/plain": [
       "HBox(children=(IntProgress(value=0, max=200), HTML(value='')))"
      ]
     },
     "metadata": {},
     "output_type": "display_data"
    },
    {
     "data": {
      "application/vnd.jupyter.widget-view+json": {
       "model_id": "69e4eed893194e699f8fda8fe154df0d",
       "version_major": 2,
       "version_minor": 0
      },
      "text/plain": [
       "HBox(children=(IntProgress(value=0, max=200), HTML(value='')))"
      ]
     },
     "metadata": {},
     "output_type": "display_data"
    },
    {
     "data": {
      "application/vnd.jupyter.widget-view+json": {
       "model_id": "b9d8be62b464422b93b41f9d1d2f38ce",
       "version_major": 2,
       "version_minor": 0
      },
      "text/plain": [
       "HBox(children=(IntProgress(value=0, max=200), HTML(value='')))"
      ]
     },
     "metadata": {},
     "output_type": "display_data"
    },
    {
     "data": {
      "application/vnd.jupyter.widget-view+json": {
       "model_id": "07ebcd245add4cceb0677b30f66f3b5c",
       "version_major": 2,
       "version_minor": 0
      },
      "text/plain": [
       "HBox(children=(IntProgress(value=0, max=200), HTML(value='')))"
      ]
     },
     "metadata": {},
     "output_type": "display_data"
    },
    {
     "data": {
      "application/vnd.jupyter.widget-view+json": {
       "model_id": "5d8e7f06b7d8498eacc63b01e4e17415",
       "version_major": 2,
       "version_minor": 0
      },
      "text/plain": [
       "HBox(children=(IntProgress(value=0, max=200), HTML(value='')))"
      ]
     },
     "metadata": {},
     "output_type": "display_data"
    },
    {
     "data": {
      "application/vnd.jupyter.widget-view+json": {
       "model_id": "",
       "version_major": 2,
       "version_minor": 0
      },
      "text/plain": [
       "HBox(children=(IntProgress(value=0, max=200), HTML(value='')))"
      ]
     },
     "metadata": {},
     "output_type": "display_data"
    },
    {
     "data": {
      "application/vnd.jupyter.widget-view+json": {
       "model_id": "b21f83d07a804c29b89ca23a69763308",
       "version_major": 2,
       "version_minor": 0
      },
      "text/plain": [
       "HBox(children=(IntProgress(value=0, max=200), HTML(value='')))"
      ]
     },
     "metadata": {},
     "output_type": "display_data"
    },
    {
     "data": {
      "application/vnd.jupyter.widget-view+json": {
       "model_id": "b2e83a451c8347d6a513855cc35993ac",
       "version_major": 2,
       "version_minor": 0
      },
      "text/plain": [
       "HBox(children=(IntProgress(value=0, max=200), HTML(value='')))"
      ]
     },
     "metadata": {},
     "output_type": "display_data"
    },
    {
     "data": {
      "application/vnd.jupyter.widget-view+json": {
       "model_id": "8a88579c1a294810b8c110c74add85e7",
       "version_major": 2,
       "version_minor": 0
      },
      "text/plain": [
       "HBox(children=(IntProgress(value=0, max=200), HTML(value='')))"
      ]
     },
     "metadata": {},
     "output_type": "display_data"
    },
    {
     "data": {
      "application/vnd.jupyter.widget-view+json": {
       "model_id": "b4866046e09449b981e7dc36da38ab21",
       "version_major": 2,
       "version_minor": 0
      },
      "text/plain": [
       "HBox(children=(IntProgress(value=0, max=200), HTML(value='')))"
      ]
     },
     "metadata": {},
     "output_type": "display_data"
    },
    {
     "data": {
      "application/vnd.jupyter.widget-view+json": {
       "model_id": "d240a2fd056b4cc89ef58ef79de03c24",
       "version_major": 2,
       "version_minor": 0
      },
      "text/plain": [
       "HBox(children=(IntProgress(value=0, max=200), HTML(value='')))"
      ]
     },
     "metadata": {},
     "output_type": "display_data"
    },
    {
     "data": {
      "application/vnd.jupyter.widget-view+json": {
       "model_id": "8754689c807a4b2786b125dc9fca3a78",
       "version_major": 2,
       "version_minor": 0
      },
      "text/plain": [
       "HBox(children=(IntProgress(value=0, max=200), HTML(value='')))"
      ]
     },
     "metadata": {},
     "output_type": "display_data"
    },
    {
     "data": {
      "application/vnd.jupyter.widget-view+json": {
       "model_id": "5e12bdb18ccd44bfa10797fd88105a8a",
       "version_major": 2,
       "version_minor": 0
      },
      "text/plain": [
       "HBox(children=(IntProgress(value=0, max=200), HTML(value='')))"
      ]
     },
     "metadata": {},
     "output_type": "display_data"
    },
    {
     "data": {
      "application/vnd.jupyter.widget-view+json": {
       "model_id": "4c7df999266145b287d714d6c1cdceae",
       "version_major": 2,
       "version_minor": 0
      },
      "text/plain": [
       "HBox(children=(IntProgress(value=0, max=200), HTML(value='')))"
      ]
     },
     "metadata": {},
     "output_type": "display_data"
    },
    {
     "data": {
      "application/vnd.jupyter.widget-view+json": {
       "model_id": "6367ba770cf14ed49f7c86d0143bbe2d",
       "version_major": 2,
       "version_minor": 0
      },
      "text/plain": [
       "HBox(children=(IntProgress(value=0, max=200), HTML(value='')))"
      ]
     },
     "metadata": {},
     "output_type": "display_data"
    },
    {
     "data": {
      "application/vnd.jupyter.widget-view+json": {
       "model_id": "1cb948f28c6541a79aa53a7558b2f756",
       "version_major": 2,
       "version_minor": 0
      },
      "text/plain": [
       "HBox(children=(IntProgress(value=0, max=200), HTML(value='')))"
      ]
     },
     "metadata": {},
     "output_type": "display_data"
    },
    {
     "data": {
      "application/vnd.jupyter.widget-view+json": {
       "model_id": "83eed51a1e064254b16c5c96ab42e326",
       "version_major": 2,
       "version_minor": 0
      },
      "text/plain": [
       "HBox(children=(IntProgress(value=0, max=200), HTML(value='')))"
      ]
     },
     "metadata": {},
     "output_type": "display_data"
    },
    {
     "data": {
      "application/vnd.jupyter.widget-view+json": {
       "model_id": "a977c3fd7f894dda872b0965924d55ac",
       "version_major": 2,
       "version_minor": 0
      },
      "text/plain": [
       "HBox(children=(IntProgress(value=0, max=200), HTML(value='')))"
      ]
     },
     "metadata": {},
     "output_type": "display_data"
    },
    {
     "data": {
      "application/vnd.jupyter.widget-view+json": {
       "model_id": "f2c39d317ce04594b5114057b060d1e5",
       "version_major": 2,
       "version_minor": 0
      },
      "text/plain": [
       "HBox(children=(IntProgress(value=0, max=200), HTML(value='')))"
      ]
     },
     "metadata": {},
     "output_type": "display_data"
    },
    {
     "data": {
      "application/vnd.jupyter.widget-view+json": {
       "model_id": "689d13aa518d4fa3bfa55159dcffec1b",
       "version_major": 2,
       "version_minor": 0
      },
      "text/plain": [
       "HBox(children=(IntProgress(value=0, max=200), HTML(value='')))"
      ]
     },
     "metadata": {},
     "output_type": "display_data"
    },
    {
     "data": {
      "application/vnd.jupyter.widget-view+json": {
       "model_id": "987f00babd434e95ab2493acb3af1528",
       "version_major": 2,
       "version_minor": 0
      },
      "text/plain": [
       "HBox(children=(IntProgress(value=0, max=200), HTML(value='')))"
      ]
     },
     "metadata": {},
     "output_type": "display_data"
    },
    {
     "data": {
      "application/vnd.jupyter.widget-view+json": {
       "model_id": "a12b35358aa041b58b33c5ab029bf561",
       "version_major": 2,
       "version_minor": 0
      },
      "text/plain": [
       "HBox(children=(IntProgress(value=0, max=200), HTML(value='')))"
      ]
     },
     "metadata": {},
     "output_type": "display_data"
    },
    {
     "data": {
      "application/vnd.jupyter.widget-view+json": {
       "model_id": "09cd46ee264246f486f2ecc9d3e33d5f",
       "version_major": 2,
       "version_minor": 0
      },
      "text/plain": [
       "HBox(children=(IntProgress(value=0, max=200), HTML(value='')))"
      ]
     },
     "metadata": {},
     "output_type": "display_data"
    },
    {
     "data": {
      "application/vnd.jupyter.widget-view+json": {
       "model_id": "",
       "version_major": 2,
       "version_minor": 0
      },
      "text/plain": [
       "HBox(children=(IntProgress(value=0, max=200), HTML(value='')))"
      ]
     },
     "metadata": {},
     "output_type": "display_data"
    },
    {
     "data": {
      "application/vnd.jupyter.widget-view+json": {
       "model_id": "",
       "version_major": 2,
       "version_minor": 0
      },
      "text/plain": [
       "HBox(children=(IntProgress(value=0, max=200), HTML(value='')))"
      ]
     },
     "metadata": {},
     "output_type": "display_data"
    },
    {
     "data": {
      "application/vnd.jupyter.widget-view+json": {
       "model_id": "061be486212c45c2a879ba23e712e325",
       "version_major": 2,
       "version_minor": 0
      },
      "text/plain": [
       "HBox(children=(IntProgress(value=0, max=200), HTML(value='')))"
      ]
     },
     "metadata": {},
     "output_type": "display_data"
    },
    {
     "data": {
      "application/vnd.jupyter.widget-view+json": {
       "model_id": "c6a90e9d84184399b1c7794ef6023934",
       "version_major": 2,
       "version_minor": 0
      },
      "text/plain": [
       "HBox(children=(IntProgress(value=0, max=200), HTML(value='')))"
      ]
     },
     "metadata": {},
     "output_type": "display_data"
    },
    {
     "data": {
      "application/vnd.jupyter.widget-view+json": {
       "model_id": "",
       "version_major": 2,
       "version_minor": 0
      },
      "text/plain": [
       "HBox(children=(IntProgress(value=0, max=200), HTML(value='')))"
      ]
     },
     "metadata": {},
     "output_type": "display_data"
    },
    {
     "data": {
      "application/vnd.jupyter.widget-view+json": {
       "model_id": "db352008b8c44d96929d6cd66535da87",
       "version_major": 2,
       "version_minor": 0
      },
      "text/plain": [
       "HBox(children=(IntProgress(value=0, max=200), HTML(value='')))"
      ]
     },
     "metadata": {},
     "output_type": "display_data"
    },
    {
     "data": {
      "application/vnd.jupyter.widget-view+json": {
       "model_id": "",
       "version_major": 2,
       "version_minor": 0
      },
      "text/plain": [
       "HBox(children=(IntProgress(value=0, max=200), HTML(value='')))"
      ]
     },
     "metadata": {},
     "output_type": "display_data"
    },
    {
     "data": {
      "application/vnd.jupyter.widget-view+json": {
       "model_id": "b9af5308f66145efac73ea2140f2d034",
       "version_major": 2,
       "version_minor": 0
      },
      "text/plain": [
       "HBox(children=(IntProgress(value=0, max=200), HTML(value='')))"
      ]
     },
     "metadata": {},
     "output_type": "display_data"
    }
   ],
   "source": [
    "iterations = 200\n",
    "count = [0] * 10\n",
    "for batch_idx, (inputs, targets) in enumerate(tqdm_notebook(trainloader)):\n",
    "    inputs = inputs.cuda()\n",
    "    targets = targets.cuda()\n",
    "\n",
    "    out = inputs\n",
    "    count = test_robustify(inputs, targets, iterations, count, classifier)\n",
    "\n",
    "#     for i in range(inputs.size(0)):\n",
    "#         save_image(out[i], os.path.join(out_dir, str(targets[i].item()), '%d.png'%(count[int(targets[i])])))\n",
    "#         count[int(targets[i])] += 1"
   ]
  },
  {
   "cell_type": "code",
   "execution_count": null,
   "metadata": {},
   "outputs": [],
   "source": [
    "for batch_idx, (inputs, targets) in enumerate(tqdm_notebook(trainloader)):\n",
    "    continue\n",
    "\n",
    "inputs = inputs.cuda()\n",
    "targets = targets.cuda()\n",
    "out = inputs.clone()\n",
    "# out_madry = inputs.clone()\n",
    "out = test_robustify(out, targets, 100, classifier)\n",
    "# out_madry = madry_robustify(out)"
   ]
  },
  {
   "cell_type": "code",
   "execution_count": null,
   "metadata": {},
   "outputs": [],
   "source": [
    "adv_out = strong_adversary.perturb(out, targets)"
   ]
  },
  {
   "cell_type": "code",
   "execution_count": null,
   "metadata": {},
   "outputs": [],
   "source": [
    "idx = 0\n",
    "util.display_image(inputs[idx])\n",
    "print(classes[classifier(inputs).argmax(1)[idx]])\n",
    "util.display_image(out[idx])\n",
    "print(classes[classifier(out).argmax(1)[idx]])\n",
    "util.display_image(adv_out[idx])\n",
    "print(classes[classifier(adv_out).argmax(1)[idx]])"
   ]
  },
  {
   "cell_type": "code",
   "execution_count": null,
   "metadata": {},
   "outputs": [],
   "source": [
    "util.display_image(transformation(inputs[idx, None]))\n"
   ]
  },
  {
   "cell_type": "code",
   "execution_count": null,
   "metadata": {},
   "outputs": [],
   "source": [
    "# save_image(out, 'robust.png')\n",
    "# adv = util.BIM(out.detach(), classifier, targets, 8/255, itr_eps=1 / 255, itr=20)\n",
    "strong_adversary = L2PGDAttack(\n",
    "    adv_model, eps=0.5, eps_iter=0.25/5, nb_iter=100,\n",
    "    rand_init=True, targeted=False)\n",
    "\n",
    "adv = strong_adversary.perturb(out_madry.detach(), targets)\n",
    "robust_label = classifier(out).argmax(1)\n",
    "adv_label = classifier(adv).argmax(1)\n",
    "\n",
    "print((targets==robust_label).sum().float()/ inputs.size(0))\n",
    "print((targets==adv_label).sum().float()/inputs.size(0))\n",
    "\n",
    "classifier_dense = torch.nn.DataParallel(DenseNet121()).cuda().eval()\n",
    "checkpoint = torch.load('./checkpoint/ckpt_dense.t7')\n",
    "classifier_dense.load_state_dict(checkpoint['net'])\n",
    "\n",
    "dense_label = classifier_dense(normalize(out)).argmax(1)\n",
    "\n",
    "print((targets==dense_label).sum().float()/ inputs.size(0))"
   ]
  },
  {
   "cell_type": "code",
   "execution_count": null,
   "metadata": {},
   "outputs": [],
   "source": [
    "idx = 19\n",
    "util.display_image(inputs[idx])\n",
    "util.display_image(out[idx])\n",
    "util.display_image(out_madry[idx])"
   ]
  },
  {
   "cell_type": "code",
   "execution_count": null,
   "metadata": {},
   "outputs": [],
   "source": [
    "def mixup_data(x, y, alpha=0.5):\n",
    "    '''Returns mixed inputs, pairs of targets, and lambda'''\n",
    "    batch_size = x.size()[0]\n",
    "    index = torch.randperm(batch_size).cuda()\n",
    "    \n",
    "    y_onehot = torch.FloatTensor(x.size(0), 10).cuda()\n",
    "    y_onehot.zero_()\n",
    "    y_onehot.scatter_(1, y.unsqueeze(1), 1)\n",
    "\n",
    "    mixed_x = (1-alpha) * x + (alpha) * x[index, :]\n",
    "    mixed_y = (1-alpha) * y_onehot + alpha * y_onehot[index]\n",
    "    return mixed_x, mixed_y\n",
    "\n",
    "mix, mix_y = mixup_data(inputs, targets)\n",
    "idx = 4\n",
    "util.display_image(mix[idx])\n",
    "util.display_image(inputs[idx])\n",
    "print(classes[targets[idx]])"
   ]
  },
  {
   "cell_type": "code",
   "execution_count": null,
   "metadata": {},
   "outputs": [],
   "source": [
    "MEAN = torch.Tensor([0.4914, 0.4822, 0.4465])\n",
    "STD = torch.Tensor([0.2023, 0.1994, 0.2010])\n",
    "norm = NormalizeByChannelMeanStd(mean=MEAN, std=STD)\n",
    "\n",
    "net = nn.Sequential(norm, ResNet18()).cuda()\n",
    "net = torch.nn.DataParallel(net)\n",
    "print(len(net.state_dict().items()), [k for k,v in net.state_dict().items()], '\\n')\n",
    "\n",
    "checkpoint = torch.load('./checkpoint/ckpt_madry+grad.t7')\n",
    "print(len(checkpoint['net'].items()), [k for k,v in checkpoint['net'].items()])\n",
    "\n",
    "# a = list(net.state_dict())\n",
    "# sorted(a)\n",
    "# b= list(checkpoint['net'])\n",
    "# sorted(b)\n",
    "# for i, key in enumerate(a):\n",
    "#     key2 = b[i]\n",
    "#     print(i, key, key2)\n",
    "#     checkpoint['net'][key] = checkpoint['net'].pop(key2)\n",
    "\n",
    "print([k for k,v in checkpoint['net'].items()])\n",
    "torch.save(checkpoint, './checkpoint/ckpt_madry+grad.t7')"
   ]
  },
  {
   "cell_type": "code",
   "execution_count": null,
   "metadata": {},
   "outputs": [],
   "source": [
    "c = 9\n",
    "x = Image.open('./dataset_folder/robust_data/%d/10.png'%c)\n",
    "x = transform(x).unsqueeze(0)\n",
    "util.display_image(x)\n",
    "print(classes[classifier(x).argmax(1)[0]])\n",
    "adv = adversary.perturb(x.cuda(), torch.LongTensor([c]).cuda())\n",
    "print(classes[classifier(adv).argmax(1)[0]])\n"
   ]
  }
 ],
 "metadata": {
  "kernelspec": {
   "display_name": "Python [conda env:torch] *",
   "language": "python",
   "name": "conda-env-torch-py"
  },
  "language_info": {
   "codemirror_mode": {
    "name": "ipython",
    "version": 3
   },
   "file_extension": ".py",
   "mimetype": "text/x-python",
   "name": "python",
   "nbconvert_exporter": "python",
   "pygments_lexer": "ipython3",
   "version": "3.7.3"
  }
 },
 "nbformat": 4,
 "nbformat_minor": 2
}
