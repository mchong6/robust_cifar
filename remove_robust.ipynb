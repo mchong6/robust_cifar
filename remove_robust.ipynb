{
 "cells": [
  {
   "cell_type": "code",
   "execution_count": 270,
   "metadata": {},
   "outputs": [
    {
     "name": "stdout",
     "output_type": "stream",
     "text": [
      "The autoreload extension is already loaded. To reload it, use:\n",
      "  %reload_ext autoreload\n"
     ]
    }
   ],
   "source": [
    "%load_ext autoreload\n",
    "%autoreload 2\n",
    "import os\n",
    "from PIL import Image\n",
    "import numpy as np\n",
    "import torch\n",
    "import torchvision.transforms as transforms\n",
    "from torch.utils.data import Dataset\n",
    "import torch.nn.functional as F \n",
    "from torch import autograd\n",
    "from torch import optim\n",
    "from torch.autograd import Variable\n",
    "os.environ[\"CUDA_VISIBLE_DEVICES\"]=\"4\"\n",
    "\n",
    "import torchvision\n",
    "from torchvision.utils import save_image\n",
    "import torch.backends.cudnn as cudnn\n",
    "import torch.nn as nn\n",
    "import json\n",
    "import util\n",
    "from tqdm import tqdm_notebook\n",
    "from models import *\n",
    "\n",
    "cudnn.benchmark = True\n",
    "from advertorch.attacks import LinfPGDAttack, L2PGDAttack\n",
    "from advertorch.utils import NormalizeByChannelMeanStd"
   ]
  },
  {
   "cell_type": "code",
   "execution_count": 294,
   "metadata": {},
   "outputs": [
    {
     "name": "stdout",
     "output_type": "stream",
     "text": [
      "Files already downloaded and verified\n"
     ]
    }
   ],
   "source": [
    "MEAN = torch.Tensor([0.4914, 0.4822, 0.4465])\n",
    "STD = torch.Tensor([0.2023, 0.1994, 0.2010])\n",
    "\n",
    "\n",
    "def unnormalize(im):\n",
    "    mean = MEAN.cuda() if im.is_cuda else MEAN\n",
    "    std = STD.cuda() if im.is_cuda else STD\n",
    "\n",
    "    if im.dim() == 4:\n",
    "        im = im.transpose(1, 3)\n",
    "        im = im * std + mean\n",
    "        im = im.transpose(1, 3)\n",
    "    else:\n",
    "        im = im.transpose(0, 2)\n",
    "        im = im * std + mean\n",
    "        im = im.transpose(0, 2)\n",
    "\n",
    "    return im\n",
    "\n",
    "\n",
    "def normalize(im):\n",
    "    mean = MEAN.cuda() if im.is_cuda else MEAN\n",
    "    std = STD.cuda() if im.is_cuda else STD\n",
    "\n",
    "    if im.dim() == 4:\n",
    "        im = im.transpose(1, 3)\n",
    "        im = (im - mean) / std\n",
    "        im = im.transpose(1, 3)\n",
    "    else:\n",
    "        im = im.transpose(0, 2)\n",
    "        im = (im - mean) / std\n",
    "        im = im.transpose(0, 2)\n",
    "\n",
    "    return im\n",
    "\n",
    "def BIM(image, classifier, target, max_eps, itr_eps=1 / 255, itr=20):\n",
    "    eps = torch.zeros_like(image).cuda()\n",
    "    for _ in range(itr):\n",
    "        eps.requires_grad = True\n",
    "        with torch.enable_grad():\n",
    "            output = classifier(normalize((image+eps).clamp(0,1)))\n",
    "            loss = F.cross_entropy(\n",
    "                output, target, size_average=False\n",
    "            )\n",
    "        grad = torch.autograd.grad(loss, [eps])[0]\n",
    "        eps = eps + itr_eps * torch.sign(grad.detach())\n",
    "        eps = eps.clamp(-max_eps, max_eps).detach()\n",
    "    return eps\n",
    "\n",
    "transform = transforms.Compose([\n",
    "    transforms.ToTensor(),\n",
    "])\n",
    "\n",
    "\n",
    "criterion = nn.CrossEntropyLoss()\n",
    "classes = ('plane', 'car', 'bird', 'cat', 'deer', 'dog', 'frog', 'horse', 'ship', 'truck')\n",
    "# criterion = nn.MSELoss()\n",
    "\n",
    "\n",
    "classifier = torch.nn.DataParallel(ResNet18()).cuda().eval()\n",
    "classifier_feat = torch.nn.DataParallel(ResNet18_feat()).cuda().eval()\n",
    "\n",
    "# checkpoint = torch.load('./checkpoint/ckpt.t7')\n",
    "checkpoint = torch.load('./checkpoint/ckpt_accumulate_10_scale1_warm1.t7')\n",
    "classifier.load_state_dict(checkpoint['net'])\n",
    "classifier_feat.load_state_dict(checkpoint['net'])\n",
    "\n",
    "trainset = torchvision.datasets.CIFAR10(root='./data', train=True, download=True, transform=transform)\n",
    "# trainset = torchvision.datasets.ImageFolder(root='./robust_data', transform=transform)\n",
    "trainloader = torch.utils.data.DataLoader(trainset, batch_size=128, shuffle=True, num_workers=2)\n",
    "\n",
    "out_dir = './robust_data_robust_model2'\n",
    "util.create_dirs(out_dir)\n",
    "for i in range(10):\n",
    "    util.create_dirs(os.path.join(out_dir, str(i)))\n",
    "\n",
    "max_eps = 8/255\n",
    "\n",
    "norm = NormalizeByChannelMeanStd(\n",
    "    mean=MEAN, std=STD)\n",
    "\n",
    "adv_model = nn.Sequential(norm, classifier).cuda()\n",
    "\n",
    "# adversary = LinfPGDAttack(\n",
    "#     adv_model, eps=8. / 255, eps_iter=1 / 255, nb_iter=10,\n",
    "#     rand_init=True, targeted=False)\n",
    "adversary = L2PGDAttack(\n",
    "    adv_model, eps=0.5, eps_iter=0.5/5, nb_iter=10,\n",
    "    rand_init=True, targeted=False)"
   ]
  },
  {
   "cell_type": "code",
   "execution_count": 332,
   "metadata": {},
   "outputs": [],
   "source": [
    "def new_robustify(im, target, iterations, classifier):\n",
    "    with torch.no_grad():\n",
    "        target_feat, _ = classifier_feat(normalize(im))\n",
    "        \n",
    "    index = torch.randperm(im.size(0)).cuda()\n",
    "    im = im[index] \n",
    "\n",
    "    for j in tqdm_notebook(range(iterations)):\n",
    "        im.requires_grad_()\n",
    "        total_loss = 0\n",
    "\n",
    "        eps = (adversary.perturb(im, target) - im).detach()\n",
    "        output = classifier(normalize((im + eps).clamp(0, 1)))\n",
    "        xe_loss =criterion(output, target) \n",
    "        \n",
    "        output_feat, _ = classifier_feat(normalize((im).clamp(0, 1)))\n",
    "        feat_loss = 1e-1 * F.mse_loss(output_feat[-1], target_feat[-1])\n",
    "        \n",
    "        print(j, xe_loss.item(), feat_loss.item())\n",
    "        total_loss = total_loss + xe_loss + feat_loss\n",
    "        if xe_loss < 1e-4:\n",
    "            return im.clamp(0,1)\n",
    "        \n",
    "#         resized_loss = 0\n",
    "#         for i in range(5):\n",
    "#             factor = np.random.uniform(1.2, 0.8)\n",
    "#             resized_im = F.interpolate(\n",
    "#                 ((im)).clamp(0, 1), scale_factor=factor, mode=\"nearest\"\n",
    "#             )\n",
    "#             output = classifier(normalize((resized_im)))\n",
    "#             resized_loss += criterion(output, target)# \n",
    "#         total_loss += resized_loss\n",
    "# #         print(j, loss.item(), resized_loss.item())\n",
    "#         if total_loss.item() < 1e-4:\n",
    "#             return im.clamp(0,1)\n",
    "\n",
    "        total_loss.backward()\n",
    "        im = (im - 0.5/255*im.grad.data.sign()).clamp(0,1).detach()\n",
    "#         im = (im - 0.1*im.grad.data/im.grad.data.norm(2, dim=(1,2,3))[:,None,None,None]).clamp(0,1).detach()\n",
    "\n",
    "    out = (im).clamp(0, 1)\n",
    "    return out\n",
    "\n",
    "def madry_robustify(im, iterations=1000):\n",
    "    index = torch.randperm(im.size(0)).cuda()\n",
    "    shuffled_im = im[index] \n",
    "    with torch.no_grad():\n",
    "        target_feat, _ = classifier_feat(normalize(im))\n",
    "    \n",
    "    for i in range(iterations):\n",
    "        shuffled_im.requires_grad_()\n",
    "        output_feat, _ = classifier_feat(normalize(shuffled_im))\n",
    "        loss = F.mse_loss(output_feat[-1], target_feat[-1])\n",
    "        loss.backward()\n",
    "        shuffled_im = (shuffled_im - 0.1*shuffled_im.grad.data/shuffled_im.grad.data.norm(2, dim=(1,2,3))[:,None,None,None]).clamp(0,1).detach()\n",
    "        \n",
    "    return shuffled_im"
   ]
  },
  {
   "cell_type": "code",
   "execution_count": null,
   "metadata": {},
   "outputs": [],
   "source": [
    "iterations = 100\n",
    "count = [0] * 10\n",
    "for batch_idx, (inputs, targets) in enumerate(tqdm_notebook(trainloader)):\n",
    "    inputs = inputs.cuda()\n",
    "    targets = targets.cuda()\n",
    "\n",
    "    out = inputs\n",
    "    out = new_robustify(inputs, targets, iterations, classifier)\n",
    "\n",
    "    for i in range(inputs.size(0)):\n",
    "        save_image(out[i], os.path.join(out_dir, str(targets[i].item()), '%d.png'%(count[int(targets[i])])))\n",
    "        count[int(targets[i])] += 1"
   ]
  },
  {
   "cell_type": "code",
   "execution_count": 333,
   "metadata": {},
   "outputs": [
    {
     "data": {
      "application/vnd.jupyter.widget-view+json": {
       "model_id": "becba466ae314b37ba384bfdea6fbdd0",
       "version_major": 2,
       "version_minor": 0
      },
      "text/plain": [
       "HBox(children=(IntProgress(value=0, max=391), HTML(value='')))"
      ]
     },
     "metadata": {},
     "output_type": "display_data"
    },
    {
     "data": {
      "application/vnd.jupyter.widget-view+json": {
       "model_id": "d4589602922f42ae88928988605f886f",
       "version_major": 2,
       "version_minor": 0
      },
      "text/plain": [
       "HBox(children=(IntProgress(value=0), HTML(value='')))"
      ]
     },
     "metadata": {},
     "output_type": "display_data"
    },
    {
     "name": "stdout",
     "output_type": "stream",
     "text": [
      "0 6.571174621582031 0.00504078296944499\n",
      "1 6.438085079193115 0.00496657146140933\n",
      "2 6.306845664978027 0.004893775563687086\n",
      "3 6.175259113311768 0.004822249989956617\n",
      "4 6.044655799865723 0.004752055741846561\n",
      "5 5.914936542510986 0.004683202598243952\n",
      "6 5.785065174102783 0.004615677986294031\n",
      "7 5.6560959815979 0.00454969797283411\n",
      "8 5.528145790100098 0.004484610632061958\n",
      "9 5.4005818367004395 0.004421318415552378\n",
      "10 5.272921085357666 0.004359168466180563\n",
      "11 5.144627571105957 0.004298271611332893\n",
      "12 5.016258239746094 0.004238885827362537\n",
      "13 4.887795925140381 0.004181030206382275\n",
      "14 4.760922908782959 0.004124818369746208\n",
      "15 4.6331377029418945 0.004069560673087835\n",
      "16 4.506353855133057 0.004016064573079348\n",
      "17 4.382109642028809 0.003963833209127188\n",
      "18 4.25661039352417 0.003913042601197958\n",
      "19 4.133491039276123 0.003863624529913068\n",
      "20 4.011198997497559 0.0038157186936587095\n",
      "21 3.890441417694092 0.0037689306773245335\n",
      "22 3.7700610160827637 0.0037235189229249954\n",
      "23 3.6502296924591064 0.0036796920467168093\n",
      "24 3.5314793586730957 0.0036371268797665834\n",
      "25 3.4136157035827637 0.00359578849747777\n",
      "26 3.2964749336242676 0.003556055948138237\n",
      "27 3.181516170501709 0.0035172239877283573\n",
      "28 3.066385507583618 0.003479480743408203\n",
      "29 2.960167646408081 0.0034431021194905043\n",
      "30 2.851227283477783 0.003407878102734685\n",
      "31 2.7497286796569824 0.0033727982081472874\n",
      "32 2.6482157707214355 0.003338930895552039\n",
      "33 2.550384998321533 0.003306238679215312\n",
      "34 2.457719326019287 0.003274606540799141\n",
      "35 2.36287260055542 0.0032439499627798796\n",
      "36 2.272653818130493 0.0032141022384166718\n",
      "37 2.185218334197998 0.0031859748996794224\n",
      "38 2.100057363510132 0.003158142091706395\n",
      "39 2.018127202987671 0.0031318427063524723\n",
      "40 1.9368574619293213 0.003106639953330159\n",
      "41 1.8591220378875732 0.0030822723638266325\n",
      "42 1.7831014394760132 0.003058413276448846\n",
      "43 1.7110925912857056 0.003035998437553644\n",
      "44 1.639413595199585 0.003015409456565976\n",
      "45 1.5720160007476807 0.0029946507420390844\n",
      "46 1.5044337511062622 0.0029761330224573612\n",
      "47 1.4430265426635742 0.0029576614033430815\n",
      "48 1.3816006183624268 0.00294097769074142\n",
      "49 1.319861650466919 0.0029259533621370792\n",
      "50 1.2661693096160889 0.0029105490539222956\n",
      "51 1.209182858467102 0.0028966942336410284\n",
      "52 1.1600053310394287 0.0028834890108555555\n",
      "53 1.1093361377716064 0.002871981356292963\n",
      "54 1.0642154216766357 0.002860798267647624\n",
      "55 1.0151515007019043 0.0028514391742646694\n",
      "56 0.9746485948562622 0.0028415329288691282\n",
      "57 0.9300500154495239 0.002834185492247343\n",
      "58 0.8904373049736023 0.0028273663483560085\n",
      "59 0.8530870676040649 0.002820799360051751\n",
      "60 0.8134495615959167 0.002815707353875041\n",
      "61 0.7791208028793335 0.0028118446934968233\n",
      "62 0.7472174167633057 0.0028077939059585333\n",
      "63 0.715591311454773 0.0028059345204383135\n",
      "64 0.6830674409866333 0.0028036495205014944\n",
      "65 0.6554272770881653 0.002802131697535515\n",
      "66 0.6268638372421265 0.0028019293677061796\n",
      "67 0.6011937856674194 0.002801246475428343\n",
      "68 0.574299156665802 0.0028023929335176945\n",
      "69 0.5492755174636841 0.0028038418386131525\n",
      "70 0.5266786813735962 0.00280586676672101\n",
      "71 0.5037680268287659 0.0028091452550143003\n",
      "72 0.4826781749725342 0.002812340622767806\n",
      "73 0.46269649267196655 0.0028165276162326336\n",
      "74 0.44221043586730957 0.002821609377861023\n",
      "75 0.42381876707077026 0.0028271502815186977\n",
      "76 0.4057311415672302 0.0028343547601252794\n",
      "77 0.3895619511604309 0.002841560635715723\n",
      "78 0.3726022243499756 0.0028497090097516775\n",
      "79 0.35652464628219604 0.0028584247920662165\n",
      "80 0.34080278873443604 0.0028683836571872234\n",
      "81 0.3270762860774994 0.0028784454334527254\n",
      "82 0.3126349449157715 0.002889461349695921\n",
      "83 0.29918426275253296 0.0029005154501646757\n",
      "84 0.28596410155296326 0.0029123846907168627\n",
      "85 0.27295413613319397 0.002924218773841858\n",
      "86 0.26089173555374146 0.0029375236481428146\n",
      "87 0.24947062134742737 0.0029515614733099937\n",
      "88 0.23845073580741882 0.00296510080806911\n",
      "89 0.22772446274757385 0.0029801519121974707\n",
      "90 0.2173202484846115 0.0029945040587335825\n",
      "91 0.20774546265602112 0.0030104112811386585\n",
      "92 0.19798040390014648 0.003026193706318736\n",
      "93 0.18911492824554443 0.0030420988332480192\n",
      "94 0.18043765425682068 0.0030595262069255114\n",
      "95 0.17220181226730347 0.00307532399892807\n",
      "96 0.1645144522190094 0.00309186102822423\n",
      "97 0.1571350395679474 0.0031088993418961763\n",
      "98 0.14975526928901672 0.003125817747786641\n",
      "99 0.1433156579732895 0.0031422339379787445\n"
     ]
    }
   ],
   "source": [
    "for batch_idx, (inputs, targets) in enumerate(tqdm_notebook(trainloader)):\n",
    "    continue\n",
    "\n",
    "inputs = inputs.cuda()\n",
    "targets = targets.cuda()\n",
    "out = inputs.clone()\n",
    "out_madry = inputs.clone()\n",
    "out = new_robustify(out, targets, 100, classifier)\n",
    "out_madry = madry_robustify(out)"
   ]
  },
  {
   "cell_type": "code",
   "execution_count": 334,
   "metadata": {},
   "outputs": [
    {
     "name": "stdout",
     "output_type": "stream",
     "text": [
      "tensor(0.9875, device='cuda:0')\n",
      "tensor(0.9750, device='cuda:0')\n",
      "tensor(0.9125, device='cuda:0')\n"
     ]
    }
   ],
   "source": [
    "# save_image(out, 'robust.png')\n",
    "# adv = util.BIM(out.detach(), classifier, targets, 8/255, itr_eps=1 / 255, itr=20)\n",
    "strong_adversary = L2PGDAttack(\n",
    "    adv_model, eps=0.5, eps_iter=0.25/5, nb_iter=100,\n",
    "    rand_init=True, targeted=False)\n",
    "\n",
    "adv = strong_adversary.perturb(out_madry.detach(), targets)\n",
    "robust_label = classifier(normalize(out)).argmax(1)\n",
    "adv_label = classifier(normalize(adv)).argmax(1)\n",
    "\n",
    "print((targets==robust_label).sum().float()/ inputs.size(0))\n",
    "print((targets==adv_label).sum().float()/inputs.size(0))\n",
    "\n",
    "classifier_dense = torch.nn.DataParallel(DenseNet121()).cuda().eval()\n",
    "checkpoint = torch.load('./checkpoint/ckpt_dense.t7')\n",
    "classifier_dense.load_state_dict(checkpoint['net'])\n",
    "\n",
    "dense_label = classifier_dense(normalize(out)).argmax(1)\n",
    "\n",
    "print((targets==dense_label).sum().float()/ inputs.size(0))"
   ]
  },
  {
   "cell_type": "code",
   "execution_count": 335,
   "metadata": {},
   "outputs": [
    {
     "data": {
      "image/png": "[encoded data removed]",
      "text/plain": [
       "<Figure size 432x288 with 1 Axes>"
      ]
     },
     "metadata": {
      "needs_background": "light"
     },
     "output_type": "display_data"
    },
    {
     "data": {
      "image/png": "[encoded data removed]",
      "text/plain": [
       "<Figure size 432x288 with 1 Axes>"
      ]
     },
     "metadata": {
      "needs_background": "light"
     },
     "output_type": "display_data"
    },
    {
     "data": {
      "image/png": "[encoded data removed]",
      "text/plain": [
       "<Figure size 432x288 with 1 Axes>"
      ]
     },
     "metadata": {
      "needs_background": "light"
     },
     "output_type": "display_data"
    }
   ],
   "source": [
    "idx = 19\n",
    "util.display_image(inputs[idx])\n",
    "util.display_image(out[idx])\n",
    "util.display_image(out_madry[idx])"
   ]
  },
  {
   "cell_type": "code",
   "execution_count": 175,
   "metadata": {},
   "outputs": [
    {
     "name": "stdout",
     "output_type": "stream",
     "text": [
      "dog\n"
     ]
    },
    {
     "data": {
      "image/png": "[encoded data removed]",
      "text/plain": [
       "<Figure size 432x288 with 1 Axes>"
      ]
     },
     "metadata": {
      "needs_background": "light"
     },
     "output_type": "display_data"
    },
    {
     "data": {
      "image/png": "[encoded data removed]",
      "text/plain": [
       "<Figure size 432x288 with 1 Axes>"
      ]
     },
     "metadata": {
      "needs_background": "light"
     },
     "output_type": "display_data"
    }
   ],
   "source": [
    "def mixup_data(x, y, alpha=0.5):\n",
    "    '''Returns mixed inputs, pairs of targets, and lambda'''\n",
    "    batch_size = x.size()[0]\n",
    "    index = torch.randperm(batch_size).cuda()\n",
    "    \n",
    "    y_onehot = torch.FloatTensor(x.size(0), 10).cuda()\n",
    "    y_onehot.zero_()\n",
    "    y_onehot.scatter_(1, y.unsqueeze(1), 1)\n",
    "\n",
    "    mixed_x = (1-alpha) * x + (alpha) * x[index, :]\n",
    "    mixed_y = (1-alpha) * y_onehot + alpha * y_onehot[index]\n",
    "    return mixed_x, mixed_y\n",
    "\n",
    "mix, mix_y = mixup_data(inputs, targets)\n",
    "idx = 4\n",
    "util.display_image(mix[idx])\n",
    "util.display_image(inputs[idx])\n",
    "print(classes[targets[idx]])"
   ]
  },
  {
   "cell_type": "code",
   "execution_count": null,
   "metadata": {},
   "outputs": [],
   "source": [
    "MEAN = torch.Tensor([0.4914, 0.4822, 0.4465])\n",
    "STD = torch.Tensor([0.2023, 0.1994, 0.2010])\n",
    "norm = NormalizeByChannelMeanStd(mean=MEAN, std=STD)\n",
    "\n",
    "net = nn.Sequential(norm, ResNet18()).cuda()\n",
    "net = torch.nn.DataParallel(net)\n",
    "print(len(net.state_dict().items()), [k for k,v in net.state_dict().items()], '\\n')\n",
    "\n",
    "checkpoint = torch.load('./checkpoint/ckpt_madry+grad.t7')\n",
    "print(len(checkpoint['net'].items()), [k for k,v in checkpoint['net'].items()])\n",
    "\n",
    "# a = list(net.state_dict())\n",
    "# sorted(a)\n",
    "# b= list(checkpoint['net'])\n",
    "# sorted(b)\n",
    "# for i, key in enumerate(a):\n",
    "#     key2 = b[i]\n",
    "#     print(i, key, key2)\n",
    "#     checkpoint['net'][key] = checkpoint['net'].pop(key2)\n",
    "\n",
    "print([k for k,v in checkpoint['net'].items()])\n",
    "torch.save(checkpoint, './checkpoint/ckpt_madry+grad.t7')"
   ]
  },
  {
   "cell_type": "code",
   "execution_count": null,
   "metadata": {},
   "outputs": [],
   "source": []
  }
 ],
 "metadata": {
  "kernelspec": {
   "display_name": "py36",
   "language": "python",
   "name": "py36"
  },
  "language_info": {
   "codemirror_mode": {
    "name": "ipython",
    "version": 3
   },
   "file_extension": ".py",
   "mimetype": "text/x-python",
   "name": "python",
   "nbconvert_exporter": "python",
   "pygments_lexer": "ipython3",
   "version": "3.6.8"
  }
 },
 "nbformat": 4,
 "nbformat_minor": 2
}
